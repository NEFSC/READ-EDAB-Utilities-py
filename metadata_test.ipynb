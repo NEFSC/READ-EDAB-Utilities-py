{
 "cells": [
  {
   "cell_type": "markdown",
   "id": "bd2e17ad",
   "metadata": {},
   "source": [
    "# Demo Notebook to Test Metadata Functions"
   ]
  },
  {
   "cell_type": "code",
   "execution_count": 1,
   "id": "0ccdc33c",
   "metadata": {},
   "outputs": [],
   "source": [
    "import pandas as pd\n",
    "import numpy as np\n",
    "import os\n",
    "import xarray as xr\n",
    "import socket\n",
    "import sys\n",
    "from datetime import datetime\n",
    "from pathlib import Path\n",
    "from typing import Dict, Any"
   ]
  },
  {
   "cell_type": "code",
   "execution_count": 2,
   "id": "8dcfc414",
   "metadata": {},
   "outputs": [
    {
     "name": "stdout",
     "output_type": "stream",
     "text": [
      "Default utilities path: /Users/kimberly.hyde/Documents/nadata/python\n"
     ]
    }
   ],
   "source": [
    "\n",
    "def get_python_path():\n",
    "    hostname = socket.gethostname()                                 # 1. Identify the computer by hostname\n",
    "    code_locations = {                                              # 2. Set default Python code location based on hostname\n",
    "        \"NECMAC04363461.local\": \"/Users/kimberly.hyde/Documents/\",  # Mac laptop\n",
    "        \"nefscsatdata\": \"/mnt/EDAB_Archive/\",                       # Satdata\n",
    "        \"guihyde\": \"/mnt/EDAB_Archive/\"                             # Kim's Satdata container\n",
    "    }\n",
    "\n",
    "    base_path = code_locations.get(hostname)\n",
    "    if not base_path:\n",
    "        print(f\"Unknown hostname: {hostname}\")\n",
    "        return None\n",
    "\n",
    "    default_utility_path = Path(base_path) / \"nadata/python\"\n",
    "    if not default_utility_path.is_dir():\n",
    "        print(f\"Directory not found: {default_utility_path}\")\n",
    "        return None\n",
    "\n",
    "    print(f\"Default utilities path: {default_utility_path}\")\n",
    "    return default_utility_path\n",
    "\n",
    "python_path = get_python_path()\n",
    "if str(python_path) not in sys.path:\n",
    "    sys.path.insert(0, str(python_path))\n",
    "\n",
    "from utilities import date_utilities, gridding_utilities, file_utilities, import_utilities, calc_daylength, metadata_utilities, calc_primprod"
   ]
  },
  {
   "cell_type": "markdown",
   "id": "b10dbe28",
   "metadata": {},
   "source": [
    "### Get Sample Data and Create \"New\" Product"
   ]
  },
  {
   "cell_type": "code",
   "execution_count": 3,
   "id": "9cc285fa",
   "metadata": {},
   "outputs": [],
   "source": [
    "from utilities import build_pp_date_map\n",
    "from utilities import load_all_metadata\n",
    "from utilities import get_dates\n",
    "from utilities import get_metadata_table\n",
    "from utilities import get_source_metadata\n",
    "from utilities import build_product_attributes\n",
    "from utilities import get_lut_products\n",
    "from utilities import get_default_metadata\n",
    "from utilities import get_reference_metadata\n",
    "from utilities import parse_dataset_info\n"
   ]
  },
  {
   "cell_type": "code",
   "execution_count": 8,
   "id": "8f934bca",
   "metadata": {},
   "outputs": [
    {
     "data": {
      "text/plain": [
       "[{'model': 'KIRK',\n",
       "  'product': 'Day length',\n",
       "  'citation': '(Kirk, 1994)',\n",
       "  'references': 'Kirk, J.T.O., 1994. Light and Photosynthesis in Aquatic Ecosystems. Cambridge University Press, Cambridge, UK.'},\n",
       " {'model': 'VGPM_EPPLEY',\n",
       "  'product': 'Primary productivity',\n",
       "  'name': 'Vertically Generalized Production Model - Eppley',\n",
       "  'citation': '(Behrenfeld and Falkowski, 1997; Eppley, 1972; Morel, 1991)',\n",
       "  'references': 'Behrenfeld, M.J., Falkowski, P.G., 1997. Photosynthetic rates derived from satellite-based chlorophyll concentration. Limnology and Oceanography 42, 1–20.\\nEppley, R.W., 1972. Temperature and phytoplankton growth in the sea. Fishery Bulletin 70, 1063–1085.\\nMorel, A., 1991. Light and marine photosynthesis: a spectral model with geochemical and climatological implications. Progress in Oceanography 96, 263–306.'}]"
      ]
     },
     "execution_count": 8,
     "metadata": {},
     "output_type": "execute_result"
    }
   ],
   "source": [
    "\n",
    "get_reference_metadata([\"KIRK\",\"VGPM_EPPLEY\"])"
   ]
  },
  {
   "cell_type": "code",
   "execution_count": null,
   "id": "ae91802f",
   "metadata": {},
   "outputs": [],
   "source": [
    "build_product_attributes(\"DOC\",_FillValue=-9999)\n"
   ]
  },
  {
   "cell_type": "code",
   "execution_count": null,
   "id": "6bf50b1c",
   "metadata": {},
   "outputs": [],
   "source": [
    "\n",
    "build_product_attributes(\"DOC\")\n",
    "\n",
    "# → {'units': 'mg m^-3', 'standard_name': 'ocean_mass_content_of_dissolved_organic_carbon', ...}"
   ]
  },
  {
   "cell_type": "code",
   "execution_count": null,
   "id": "406971c3",
   "metadata": {},
   "outputs": [],
   "source": []
  },
  {
   "cell_type": "code",
   "execution_count": 4,
   "id": "bfc69ad9",
   "metadata": {},
   "outputs": [
    {
     "name": "stdout",
     "output_type": "stream",
     "text": [
      "📦 Found 30 .nc files in: /Users/kimberly.hyde/Documents/nadata/DATASETS/OCCCI/V6.0/SOURCE_DATA/MAPPED_4KM_DAILY/CHL\n",
      "📦 Found 32 .nc files in: /Users/kimberly.hyde/Documents/nadata/DATASETS/CORALSST/V3.1/SOURCE_DATA/MAPPED_5KM_DAILY/SST\n",
      "📦 Found 31 .nc files in: /Users/kimberly.hyde/Documents/nadata/DATASETS/GLOBCOLOUR/V4.2.1/SOURCE_DATA/MAPPED_4KM_DAILY/PAR\n",
      "📅 Mapped 30 dates with complete product files.\n"
     ]
    }
   ],
   "source": [
    "\n",
    "# Get the input and output files for primary productivity\n",
    "pmap = build_pp_date_map(get_date_prod=\"CHL\", sst_dataset='CORALSST')\n",
    "date, first_date_info = next(iter(pmap.items()))\n",
    "chl_file, sst_file, par_file, ppd_file, _ = first_date_info\n",
    "\n",
    "#ppd = process_daily_pp(date,chl_file,sst_file,par_file,ppd_file)\n",
    "ppd = xr.open_dataset(ppd_file)\n",
    "chl = xr.open_dataset(chl_file)\n"
   ]
  },
  {
   "cell_type": "code",
   "execution_count": null,
   "id": "245db5ea",
   "metadata": {},
   "outputs": [],
   "source": [
    "par = xr.open_dataset(par_file)\n",
    "par"
   ]
  },
  {
   "cell_type": "code",
   "execution_count": null,
   "id": "60979b2f",
   "metadata": {},
   "outputs": [],
   "source": [
    "parse_dataset_info(chl_file)"
   ]
  },
  {
   "cell_type": "code",
   "execution_count": 9,
   "id": "2feb4ecc",
   "metadata": {},
   "outputs": [
    {
     "data": {
      "text/plain": [
       "'Behrenfeld, M. J. and P. G. Falkowski (1997). \"Photosynthetic rates derived from satellite-based chlorophyll concentration.\" Limnology and Oceanography 42(1): 1-20\\n\\nEppley, R.W., 1972. Temperature and phytoplankton growth in the sea. Fishery Bulletin 70, 1063–1085.\\n\\nKirk, J.T.O., 1994. Light and Photosynthesis in Aquatic Ecosystems. Cambridge University Press, Cambridge, UK.\\n\\nMorel, A., Berthon, J.-F., 1989. Surface pigments, algal biomass profiles, and potential production of the euphotic layer: Relationships reinvestigated in view of remote-sensing applications. Limnology and Oceanography 34, 1545–1562. https://doi.org/10.4319/lo.1989.34.8.1545'"
      ]
     },
     "execution_count": 9,
     "metadata": {},
     "output_type": "execute_result"
    }
   ],
   "source": [
    "\n",
    "refs = get_reference_metadata(['VGPM','EPPLEY','KIRK','ZEU'])\n",
    "all_refs = \"\\n\\n\".join(entry[\"references\"] for entry in refs if \"references\" in entry and entry[\"references\"])\n",
    "all_refs"
   ]
  },
  {
   "cell_type": "code",
   "execution_count": null,
   "id": "27601c21",
   "metadata": {},
   "outputs": [],
   "source": [
    "chl_source = get_source_metadata(parse_dataset_info(chl_file)[\"dataset\"],dataset_version=parse_dataset_info(chl_file)[\"version\"],source_prefix=\"source_chl\")\n",
    "sst_source = get_source_metadata(parse_dataset_info(sst_file)[\"dataset\"],dataset_version=parse_dataset_info(sst_file)[\"version\"],source_prefix=\"source_sst\")\n",
    "par_source = get_source_metadata(parse_dataset_info(par_file)[\"dataset\"],dataset_version=parse_dataset_info(par_file)[\"version\"],source_prefix=\"source_par\")\n",
    "# Build the ppd history\n",
    "History = [f\"Daily primary productivity is calculated using the VGPM {get_reference_metadata('VGPM')['citation']} and VGPM-EPPLEY {get_reference_metadata('VGPM_EPPLEY')['citation']}models. \",\n",
    "        f\"The input chlorophyll file ({os.path.basename(chl_file)}) is from the {chl_source['source_chl_title']}. \",\n",
    "        f\"The input sea surface temperature file ({os.path.basename(sst_file)}) is from the {sst_source['source_sst_title']}. \",\n",
    "        f\"The input photosynthetic active radiation file ({os.path.basename(par_file)}) is from the {par_source['source_par_title']}. \",\n",
    "        f\"The SST and PAR data were regridded to the CHL grid using xesmf bilinear regridding.\",\n",
    "        f\"Day length was calculated according to Kirk (1994)\"\n",
    "]\n",
    "\n",
    "refs = get_reference_metadata(['VGPM_EPPLEY','KIRK','ZEU'])\n",
    "all_refs = \"\\n\\n\".join(entry[\"references\"] for entry in refs if \"references\" in entry and entry[\"references\"])\n",
    "\n",
    "# PP Attributes\n",
    "attrs = {}\n",
    "\n",
    "attrs[\"cdm_data_type\"] = \"Grid\"\n",
    "attrs[\"history\"] = History\n",
    "attrs[\"references\"] = all_refs\n",
    "attrs[\"product_name\"] = build_product_attributes(\"PPD\")[\"long_name\"]\n",
    "attrs[\"processing_level\"] = \"L3 Mapped\"\n",
    "\n",
    "\n"
   ]
  },
  {
   "cell_type": "code",
   "execution_count": null,
   "id": "1266692b",
   "metadata": {},
   "outputs": [],
   "source": [
    "get_source_metadata('ROMS_NWA')"
   ]
  },
  {
   "cell_type": "code",
   "execution_count": null,
   "id": "dd10a960",
   "metadata": {},
   "outputs": [],
   "source": [
    "from utilities import get_source_metadata\n",
    "\n",
    "get_source_metadata(\"OCCCI\", dataset_version=\"V4.2\")  # ✅ returns V4.2 if present\n",
    "get_source_metadata(\"OCCCI\")                          # ✅ returns default V6.0\n",
    "get_source_metadata(\"OCCCI\", dataset_version=\"V9.9\")  # ❌ raises error"
   ]
  },
  {
   "cell_type": "code",
   "execution_count": null,
   "id": "1026480b",
   "metadata": {},
   "outputs": [],
   "source": [
    "from utilities import get_lut_metadata\n",
    "\n",
    "program = get_lut_metadata(\n",
    "    add_program=\"Ecosystem Dynamics and Assessment Branch\",\n",
    "    add_project=\"State of the Ecosystem\"\n",
    ")\n",
    "program"
   ]
  },
  {
   "cell_type": "code",
   "execution_count": null,
   "id": "b4efc5bc",
   "metadata": {},
   "outputs": [],
   "source": [
    "from utilities import get_default_metadata\n",
    "\n",
    "required_meta = get_default_metadata(sheet=\"Global\")\n",
    "print(\"✅ Required metadata with defaults:\")\n",
    "for k, v in required_meta.items():\n",
    "    print(f\"  {k}: {v}\")"
   ]
  },
  {
   "cell_type": "code",
   "execution_count": null,
   "id": "4b6f5da2",
   "metadata": {},
   "outputs": [],
   "source": [
    "from utilities import get_temporal_metadata\n",
    "\n",
    "tmeta = get_temporal_metadata(ds=ppd)\n",
    "tmeta"
   ]
  },
  {
   "cell_type": "code",
   "execution_count": null,
   "id": "f3c93953",
   "metadata": {},
   "outputs": [],
   "source": [
    "from utilities import get_geospatial_metadata\n",
    "\n",
    "meta = get_geospatial_metadata(use_inputdata_path=chl_file)\n",
    "meta"
   ]
  },
  {
   "cell_type": "code",
   "execution_count": null,
   "id": "c070dd85",
   "metadata": {},
   "outputs": [],
   "source": [
    "from utilities import get_geospatial_metadata\n",
    "\n",
    "meta = get_geospatial_metadata(use_current_data=ppd)\n",
    "meta"
   ]
  },
  {
   "cell_type": "code",
   "execution_count": null,
   "id": "c4afc78c",
   "metadata": {},
   "outputs": [],
   "source": [
    "sst = xr.open_dataset(sst_file)\n",
    "sst.attrs"
   ]
  },
  {
   "cell_type": "code",
   "execution_count": null,
   "id": "0d8bfef7",
   "metadata": {},
   "outputs": [],
   "source": [
    "par = xr.open_dataset(par_file)\n",
    "par.attrs"
   ]
  },
  {
   "cell_type": "markdown",
   "id": "af277ed6",
   "metadata": {},
   "source": [
    "#### Global attributes to add or update\n",
    "* acknowledgement\n",
    "* license\n",
    "* institution\n",
    "* naming_authority\n",
    "* conventions\n",
    "* \n",
    "\n",
    "##### Processing date information\n",
    "* date_created\n",
    "* date_issued\n",
    "* date_metadata_modified\n",
    "* date_modified\n",
    "##### Creator\n",
    "The individual or organization with primary responsibility for creating the data. This would be the entity directly generating the scientific data itself.\n",
    "* creator_email\n",
    "* creator_name\n",
    "* creator_url\n",
    "* creator_type (person or group)\n",
    "##### Contributor\n",
    "An individual or institution that made a significant but secondary or indirect contribution to the data creation. This might include someone who provided funding, data analysis, or quality control, but wasn't directly responsible for generating the core data. A contributor should not also be listed as a creator, if an agent acts in multiple capacities, clarification should be provided in the role section.\n",
    "* contributor_name\n",
    "* contributor_role\n",
    "##### Project\n",
    "The specific scientific project for which the data was collected or created.\n",
    "##### Program\n",
    "The scientific project or initiative that produced the data. This provides context for the data's origin and may be important for understanding its scope or intended use. The project that produced the data is included in the metadata as the 'project' attribute.\n",
    "* program_name\n",
    "* program_url\n",
    "* program_email\n",
    "##### Publisher\n",
    "The entity responsible for making the data available to the public. This might be a data repository, a scientific journal, or an institution hosting the data. The 'publisher_name', 'publisher_url', and 'publisher_email' attributes describe the publisher's contact information.\n",
    "* publisher_email\n",
    "* publisher_institution\n",
    "* publisher_name\n",
    "* publisher_type\n",
    "* publisher_url\n",
    "\n",
    "##### New product specific information\n",
    "* comment\n",
    "* keywords\n",
    "* title\n",
    "* summary\n",
    "* id\n",
    "* product_name (file name)\n",
    "* product_type (temporal resolution e.g. day)\n",
    "* product_version\n",
    "* product_level (L3, L4, etc)\n",
    "\n",
    "##### Project specific information (SOE?)\n",
    "* project\n",
    "\n",
    "##### Merge from all source files\n",
    "* platform\n",
    "* sensor\n",
    "* instruments\n",
    "* source\n",
    "* references\n",
    "\n",
    "#### Attributes to copy from \"grid\" source\n",
    "* 'geospatial_lat_max': np.float32(90.0),\n",
    "* 'geospatial_lat_min': np.float32(-90.0),\n",
    "* 'geospatial_lat_resolution': '.04166666666666666666',\n",
    "* 'geospatial_lat_units': 'decimal degrees north',\n",
    "* 'geospatial_lon_max': np.float32(180.0),\n",
    "* 'geospatial_lon_min': np.float32(-180.0),\n",
    "* 'geospatial_lon_resolution': '.04166666666666666666',\n",
    "* 'geospatial_lon_units': 'decimal degrees east',\n",
    "* 'geospatial_vertical_max': np.float32(0.0),\n",
    "* 'geospatial_vertical_min': np.float32(0.0),\n",
    "* 'time_coverage_duration': 'P1D',\n",
    "* 'time_coverage_end': '199801012359Z',\n",
    "* 'time_coverage_resolution': 'P1D',\n",
    "* 'time_coverage_start': '199801010000Z',\n",
    "\n",
    "#### Attributes to check\n",
    "* keywords_vocabulary\n",
    "\n",
    "\n",
    "#### Attributes to remove?\n",
    "* git_commit_hash\n",
    "* tracking_id\n",
    "* number_of_bands_used_to_classify\n",
    "* number_of_optical_water_types"
   ]
  },
  {
   "cell_type": "code",
   "execution_count": null,
   "id": "5191e522",
   "metadata": {},
   "outputs": [],
   "source": [
    "# Attributes to update\n",
    "\n",
    "\n"
   ]
  },
  {
   "cell_type": "code",
   "execution_count": null,
   "id": "dcdef1ab",
   "metadata": {},
   "outputs": [],
   "source": [
    "\"\"\" \n",
    "    ds_out.attrs.update({\n",
    "        \"title\": \"Estimated Primary Production from Chlorophyll\",\n",
    "        \"summary\": \"Derived using Eppley and VGPM models from satellite chlorophyll data\",\n",
    "        \"history\": f\"{chl_ds.attrs.get('history', '')}; Processed with PP models on {pd.Timestamp.now()}\",\n",
    "        \"references\": \"Behrenfeld & Falkowski (1997), Morel (1991)\",\n",
    "        \"processing_level\": \"L3\",\n",
    "        \"creator_name\": \"Kim\",\n",
    "        \"software_version\": \"v1.0\",\n",
    "    })\n",
    "\"\"\"\n"
   ]
  },
  {
   "cell_type": "markdown",
   "id": "156e9d0e",
   "metadata": {},
   "source": [
    "### Read Metadata Spreadsheet"
   ]
  },
  {
   "cell_type": "code",
   "execution_count": null,
   "id": "ee3a5fe2",
   "metadata": {},
   "outputs": [],
   "source": []
  },
  {
   "cell_type": "code",
   "execution_count": null,
   "id": "03d618a3",
   "metadata": {},
   "outputs": [],
   "source": [
    "from utilities import get_python_dir\n",
    "\n",
    "dir = get_python_dir(resources=True)\n",
    "metapath = os.path.join(dir,'metadata','EDAB_metadata.xlsx')\n",
    "\n",
    "metadict = pd.read_excel(metapath,sheet_name=None)\n",
    "allmeta = pd.concat(metadict.values(), ignore_index=True)\n",
    "print(allmeta.head())"
   ]
  },
  {
   "cell_type": "code",
   "execution_count": null,
   "id": "599b0cdf",
   "metadata": {},
   "outputs": [],
   "source": [
    "def read_metadata_lookup(excel_path: str) -> Dict[str, Dict[str, Any]]:\n",
    "    \"\"\"\n",
    "    Reads an Excel file with multiple sheets containing metadata mappings.\n",
    "    Returns a dictionary: {sheet_name: {attribute_name: value, ...}, ...}\n",
    "    \"\"\"\n",
    "    metadata_dict = {}\n",
    "    xls = pd.ExcelFile(excel_path)\n",
    "    for sheet in xls.sheet_names:\n",
    "        df = xls.parse(sheet)\n",
    "        # Assumes two columns: 'Attribute' and 'Value'\n",
    "        if 'Attribute' in df.columns and 'Value' in df.columns:\n",
    "            metadata_dict[sheet] = dict(zip(df['Attribute'], df['Value']))\n",
    "        else:\n",
    "            raise ValueError(f\"Sheet '{sheet}' must contain 'Attribute' and 'Value' columns.\")\n",
    "    return metadata_dict"
   ]
  },
  {
   "cell_type": "code",
   "execution_count": null,
   "id": "b8093a8b",
   "metadata": {},
   "outputs": [],
   "source": [
    "def extract_netcdf_metadata(nc_path: str) -> Dict[str, Any]:\n",
    "    \"\"\"\n",
    "    Extracts global attributes from a NetCDF file.\n",
    "    \"\"\"\n",
    "    with xr.open_dataset(nc_path) as ds:\n",
    "        return dict(ds.attrs)"
   ]
  },
  {
   "cell_type": "code",
   "execution_count": null,
   "id": "43bcae01",
   "metadata": {},
   "outputs": [],
   "source": [
    "def update_netcdf_metadata(nc_path: str, updates: Dict[str, Any], output_path: str = None) -> None:\n",
    "    \"\"\"\n",
    "    Updates or adds global attributes in a NetCDF file.\n",
    "    Writes to output_path if provided, otherwise overwrites original.\n",
    "    \"\"\"\n",
    "    output_path = output_path or nc_path\n",
    "    with xr.open_dataset(nc_path) as ds:\n",
    "        ds.attrs.update(updates)\n",
    "        ds.to_netcdf(output_path)"
   ]
  },
  {
   "cell_type": "code",
   "execution_count": null,
   "id": "37fdec47",
   "metadata": {},
   "outputs": [],
   "source": [
    "def apply_metadata_updates(nc_path: str, excel_path: str, sheet: str = 'global', output_path: str = None) -> None:\n",
    "    \"\"\"\n",
    "    Wrapper to apply metadata updates from a specific sheet in the Excel file to a NetCDF file.\n",
    "    \"\"\"\n",
    "    metadata_lookup = read_metadata_lookup(excel_path)\n",
    "    if sheet not in metadata_lookup:\n",
    "        raise KeyError(f\"Sheet '{sheet}' not found in Excel file.\")\n",
    "    \n",
    "    updates = metadata_lookup[sheet]\n",
    "    update_netcdf_metadata(nc_path, updates, output_path)"
   ]
  },
  {
   "cell_type": "code",
   "execution_count": null,
   "id": "c2fddee0",
   "metadata": {},
   "outputs": [],
   "source": [
    "apply_metadata_updates(\n",
    "    nc_path=\"data.nc\",\n",
    "    excel_path=\"metadata_lookup.xlsx\",\n",
    "    sheet=\"global\",  # or any other sheet name\n",
    "    output_path=\"data_updated.nc\"\n",
    ")"
   ]
  }
 ],
 "metadata": {
  "kernelspec": {
   "display_name": "satprocessing",
   "language": "python",
   "name": "python3"
  },
  "language_info": {
   "codemirror_mode": {
    "name": "ipython",
    "version": 3
   },
   "file_extension": ".py",
   "mimetype": "text/x-python",
   "name": "python",
   "nbconvert_exporter": "python",
   "pygments_lexer": "ipython3",
   "version": "3.11.13"
  }
 },
 "nbformat": 4,
 "nbformat_minor": 5
}
