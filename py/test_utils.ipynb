{
 "cells": [
  {
   "cell_type": "markdown",
   "id": "51809940",
   "metadata": {},
   "source": [
    "# Notebook to demostrate the new EDAB python utility functions"
   ]
  },
  {
   "cell_type": "code",
   "execution_count": 1,
   "id": "12404ebc-fa59-4637-afc8-68d68c817b62",
   "metadata": {},
   "outputs": [],
   "source": [
    "# Import libraries\n",
    "import os\n",
    "import xarray as xr"
   ]
  },
  {
   "cell_type": "markdown",
   "id": "024e1389",
   "metadata": {},
   "source": [
    "## Load all utility functions"
   ]
  },
  {
   "cell_type": "code",
   "execution_count": 2,
   "id": "9ebf1cb4",
   "metadata": {},
   "outputs": [
    {
     "data": {
      "text/plain": [
       "{'get_python_dir': <function import_utilities.get_python_dir()>,\n",
       " 'get_pyfile_functions': <function import_utilities.get_pyfile_functions(directory=None, search_string=None)>,\n",
       " 'import_utility_functions': <function import_utilities.import_utility_functions(directory=None, function_map=None)>,\n",
       " 'dataset_defaults': <function getfiles.dataset_defaults()>,\n",
       " 'product_defaults': <function getfiles.product_defaults()>,\n",
       " 'get_datasets_source': <function getfiles.get_datasets_source(preferred=None)>,\n",
       " 'get_dataset_dirs': <function getfiles.get_dataset_dirs(dataset=None)>,\n",
       " 'get_dataset_products': <function getfiles.get_dataset_products(dataset, dataset_map=None)>,\n",
       " 'get_prod_files': <function getfiles.get_prod_files(prod, dataset=None, dataset_version=None, dataset_type=None, dataset_map=None, prod_type=None, period=None)>}"
      ]
     },
     "execution_count": 2,
     "metadata": {},
     "output_type": "execute_result"
    }
   ],
   "source": [
    "\n",
    "# Import initial utility function\n",
    "from import_utilities import import_utility_functions\n",
    "\n",
    "# Find all utiltity functions\n",
    "functions = import_utility_functions()\n",
    "\n",
    "# Load all utiltiey functions\n",
    "globals().update(functions)\n",
    "\n",
    "functions"
   ]
  },
  {
   "cell_type": "markdown",
   "id": "992ea2c5",
   "metadata": {},
   "source": [
    "### Show the default python directory and get the names of the functions"
   ]
  },
  {
   "cell_type": "code",
   "execution_count": 7,
   "id": "7a81ceaf",
   "metadata": {},
   "outputs": [
    {
     "data": {
      "text/plain": [
       "'/Users/kimberly.hyde/Documents/nadata/python/utilities/py'"
      ]
     },
     "execution_count": 7,
     "metadata": {},
     "output_type": "execute_result"
    }
   ],
   "source": [
    "# Get default python directory\n",
    "get_python_dir()"
   ]
  },
  {
   "cell_type": "code",
   "execution_count": 8,
   "id": "77321c7b",
   "metadata": {},
   "outputs": [
    {
     "data": {
      "text/plain": [
       "{'import_utilities': ['get_python_dir',\n",
       "  'get_pyfile_functions',\n",
       "  'import_utility_functions'],\n",
       " 'getfiles': ['dataset_defaults_source',\n",
       "  'product_defaults',\n",
       "  'get_datasets_source',\n",
       "  'get_dataset_dirs',\n",
       "  'get_dataset_products',\n",
       "  'get_prod_files']}"
      ]
     },
     "execution_count": 8,
     "metadata": {},
     "output_type": "execute_result"
    }
   ],
   "source": [
    "# Get the names of the .py files in the utilities folder\n",
    "get_pyfile_functions()"
   ]
  },
  {
   "cell_type": "markdown",
   "id": "9aafb4bf",
   "metadata": {},
   "source": [
    "## Use getfiles.py functions to find datasets and files"
   ]
  },
  {
   "cell_type": "code",
   "execution_count": 9,
   "id": "ecc7bcb7-1704-4554-9718-98248372716f",
   "metadata": {
    "scrolled": true
   },
   "outputs": [
    {
     "name": "stdout",
     "output_type": "stream",
     "text": [
      "✓ Using default input data directory: [laptop] → /Users/kimberly.hyde/Documents/nadata/DATASETS_SOURCE/\n",
      "/Users/kimberly.hyde/Documents/nadata/DATASETS_SOURCE/\n",
      "✓ Using specified input directory: [laptop] → /Users/kimberly.hyde/Documents/nadata/DATASETS_SOURCE/\n",
      "/Users/kimberly.hyde/Documents/nadata/DATASETS_SOURCE/\n",
      "✗ Preferred input source 'server' not available — falling back to defaults.\n",
      "✓ Using default input data directory: [laptop] → /Users/kimberly.hyde/Documents/nadata/DATASETS_SOURCE/\n",
      "/Users/kimberly.hyde/Documents/nadata/DATASETS_SOURCE/\n"
     ]
    }
   ],
   "source": [
    "# Auto-detect the default datasets directory\n",
    "print(get_datasets_source())\n",
    "\n",
    "# Manually select 'laptop' datasts directory\n",
    "print(get_datasets_source(preferred=\"laptop\"))\n",
    "\n",
    "# Manually select 'server', but default back to laptop if not found\n",
    "print(get_datasets_source(preferred=\"server\"))"
   ]
  },
  {
   "cell_type": "markdown",
   "id": "e1a56199",
   "metadata": {},
   "source": [
    "## Show the dataset and product defaults"
   ]
  },
  {
   "cell_type": "code",
   "execution_count": 7,
   "id": "090a9abc",
   "metadata": {},
   "outputs": [
    {
     "name": "stdout",
     "output_type": "stream",
     "text": [
      "✓ Using default input data directory: [laptop] → /Users/kimberly.hyde/Documents/nadata/DATASETS_SOURCE/\n"
     ]
    },
    {
     "data": {
      "text/plain": [
       "'/Users/kimberly.hyde/Documents/nadata/DATASETS_SOURCE/'"
      ]
     },
     "execution_count": 7,
     "metadata": {},
     "output_type": "execute_result"
    }
   ],
   "source": [
    "# Default datasets source location\n",
    "get_datasets_source()"
   ]
  },
  {
   "cell_type": "code",
   "execution_count": 4,
   "id": "f8d09f6c",
   "metadata": {},
   "outputs": [
    {
     "data": {
      "text/plain": [
       "{'ACSPO': ('V2.8.1', 'MAPPED_2KM_DAILY', 'SST'),\n",
       " 'ACSPONRT': ('V2.8.1', 'MAPPED_2KM_DAILY', 'SST'),\n",
       " 'AVHRR': ('V5.3', 'MAPPED_4KM_DAILY', 'SST'),\n",
       " 'CORALSST': ('V3.1', 'MAPPED_5KM_DAILY', 'SST'),\n",
       " 'GLOBCOLOUR': ('V4.2.1', 'MAPPED_4KM_DAILY', 'CHL1'),\n",
       " 'MUR': ('V4.1', 'MAPPED_1KM_DAILY', 'SST'),\n",
       " 'OCCCI': ('V6.0', 'MAPPED_4KM_DAILY', 'CHL'),\n",
       " 'OISST': ('V2', 'MAPPED_25KM_DAILY', 'SST')}"
      ]
     },
     "execution_count": 4,
     "metadata": {},
     "output_type": "execute_result"
    }
   ],
   "source": [
    "dataset_defaults()"
   ]
  },
  {
   "cell_type": "code",
   "execution_count": 5,
   "id": "ee92a816",
   "metadata": {},
   "outputs": [
    {
     "data": {
      "text/plain": [
       "{'CHL': ('CHL', 'OCCCI', 'SOURCE', ''),\n",
       " 'CHLOR_A': ('CHLOR_A', 'OCCCI', 'OUTPUT', 'DAILY'),\n",
       " 'SST': ('SST', 'ACSPO', 'SOURCE', ''),\n",
       " 'PPD': ('PPD', 'OCCCI', 'OUTPUT', 'DAILY'),\n",
       " 'PSC': ('PSC', 'OCCCI', 'OUTPUT', 'DAILY'),\n",
       " 'PAR': ('PAR', 'GLOBCOLOUR', 'SOURCE', ''),\n",
       " 'CHL_TEMP': ('CHL1', 'GLOBCOLOUR', 'SOURCE', ''),\n",
       " 'SST_TEMP': ('SST', 'ACSPONRT', 'SOURCE', ''),\n",
       " 'CHL_FRONTS': ('CHL_FRONTS', 'OCCCI', 'OUTPUT', 'DAILY'),\n",
       " 'SST_FRONTS': ('SST_FRONTS', 'ACSPO', 'OUTPUT', 'DAILY'),\n",
       " 'FRONTS': ('SST_FRONTS', 'ACSPO', 'OUTPUT', 'DAILY')}"
      ]
     },
     "execution_count": 5,
     "metadata": {},
     "output_type": "execute_result"
    }
   ],
   "source": [
    "product_defaults()"
   ]
  },
  {
   "cell_type": "markdown",
   "id": "a9639ea2",
   "metadata": {},
   "source": [
    "# Get dataset directories"
   ]
  },
  {
   "cell_type": "code",
   "execution_count": 17,
   "id": "d572fec2",
   "metadata": {},
   "outputs": [
    {
     "name": "stdout",
     "output_type": "stream",
     "text": [
      "✓ Using default input data directory: [laptop] → /Users/kimberly.hyde/Documents/nadata/DATASETS_SOURCE/\n"
     ]
    },
    {
     "data": {
      "text/plain": [
       "{'GLOBCOLOUR': {'SOURCE_DATA': '/Users/kimberly.hyde/Documents/nadata/DATASETS_SOURCE/GLOBCOLOUR/V4.2.1/SOURCE_DATA'},\n",
       " 'OCCCI': {'SOURCE_DATA': '/Users/kimberly.hyde/Documents/nadata/DATASETS_SOURCE/OCCCI/V6.0/SOURCE_DATA',\n",
       "  'OUTPUT': '/Users/kimberly.hyde/Documents/nadata/DATASETS_SOURCE/OCCCI/V6.0/OUTPUT'},\n",
       " 'CORALSST': {'SOURCE_DATA': '/Users/kimberly.hyde/Documents/nadata/DATASETS_SOURCE/CORALSST/V3.1/SOURCE_DATA'}}"
      ]
     },
     "execution_count": 17,
     "metadata": {},
     "output_type": "execute_result"
    }
   ],
   "source": [
    "get_dataset_dirs()"
   ]
  },
  {
   "cell_type": "code",
   "execution_count": 22,
   "id": "c466f1cd",
   "metadata": {},
   "outputs": [
    {
     "name": "stdout",
     "output_type": "stream",
     "text": [
      "✓ Using default input data directory: [laptop] → /Users/kimberly.hyde/Documents/nadata/DATASETS_SOURCE/\n",
      "\n",
      "🔷 Source Type: SOURCE_DATA\n",
      "  📦 Map Type: MAPPED_4KM_DAILY\n",
      "    🧪 Product: CHL\n",
      "      📍 Path: /Users/kimberly.hyde/Documents/nadata/DATASETS_SOURCE/OCCCI/V6.0/SOURCE_DATA/MAPPED_4KM_DAILY/CHL\n",
      "    🧪 Product: RRS\n",
      "      📍 Path: /Users/kimberly.hyde/Documents/nadata/DATASETS_SOURCE/OCCCI/V6.0/SOURCE_DATA/MAPPED_4KM_DAILY/RRS\n",
      "  📦 Map Type: BINNED_1KM_DAILY\n",
      "    🧪 Product: IOP\n",
      "      📍 Path: /Users/kimberly.hyde/Documents/nadata/DATASETS_SOURCE/OCCCI/V6.0/SOURCE_DATA/BINNED_1KM_DAILY/IOP\n",
      "\n",
      "🔷 Source Type: OUTPUT\n",
      "  📦 Map Type: PPD\n",
      "    🧪 Product: DAILY\n",
      "      📍 Path: /Users/kimberly.hyde/Documents/nadata/DATASETS_SOURCE/OCCCI/V6.0/OUTPUT/PPD/DAILY\n"
     ]
    }
   ],
   "source": [
    "dirs = get_dataset_products('OCCCI')\n",
    "for source_type, map_types in dirs.items():\n",
    "    print(f\"\\n🔷 Source Type: {source_type}\")\n",
    "    for map_type, products in map_types.items():\n",
    "        print(f\"  📦 Map Type: {map_type}\")\n",
    "        for product, path in products.items():\n",
    "            print(f\"    🧪 Product: {product}\")\n",
    "            print(f\"      📍 Path: {path}\")\n"
   ]
  },
  {
   "cell_type": "markdown",
   "id": "f19399a6",
   "metadata": {},
   "source": [
    "### Get product files"
   ]
  },
  {
   "cell_type": "code",
   "execution_count": 3,
   "id": "6afcd60e",
   "metadata": {},
   "outputs": [
    {
     "name": "stdout",
     "output_type": "stream",
     "text": [
      "✓ Using default input data directory: [laptop] → /Users/kimberly.hyde/Documents/nadata/DATASETS_SOURCE/\n",
      "✅ Found path for 'CHL' → /Users/kimberly.hyde/Documents/nadata/DATASETS_SOURCE/OCCCI/V6.0/SOURCE_DATA/MAPPED_4KM_DAILY/CHL\n",
      "📦 Found 30 .nc files in: /Users/kimberly.hyde/Documents/nadata/DATASETS_SOURCE/OCCCI/V6.0/SOURCE_DATA/MAPPED_4KM_DAILY/CHL\n"
     ]
    },
    {
     "data": {
      "text/plain": [
       "['/Users/kimberly.hyde/Documents/nadata/DATASETS_SOURCE/OCCCI/V6.0/SOURCE_DATA/MAPPED_4KM_DAILY/CHL/ESACCI-OC-L3S-CHLOR_A-MERGED-1D_DAILY_4km_GEO_PML_OCx-19980129-fv6.0.nc',\n",
       " '/Users/kimberly.hyde/Documents/nadata/DATASETS_SOURCE/OCCCI/V6.0/SOURCE_DATA/MAPPED_4KM_DAILY/CHL/ESACCI-OC-L3S-CHLOR_A-MERGED-1D_DAILY_4km_GEO_PML_OCx-19980128-fv6.0.nc',\n",
       " '/Users/kimberly.hyde/Documents/nadata/DATASETS_SOURCE/OCCCI/V6.0/SOURCE_DATA/MAPPED_4KM_DAILY/CHL/ESACCI-OC-L3S-CHLOR_A-MERGED-1D_DAILY_4km_GEO_PML_OCx-19980117-fv6.0.nc',\n",
       " '/Users/kimberly.hyde/Documents/nadata/DATASETS_SOURCE/OCCCI/V6.0/SOURCE_DATA/MAPPED_4KM_DAILY/CHL/ESACCI-OC-L3S-CHLOR_A-MERGED-1D_DAILY_4km_GEO_PML_OCx-19980116-fv6.0.nc',\n",
       " '/Users/kimberly.hyde/Documents/nadata/DATASETS_SOURCE/OCCCI/V6.0/SOURCE_DATA/MAPPED_4KM_DAILY/CHL/ESACCI-OC-L3S-CHLOR_A-MERGED-1D_DAILY_4km_GEO_PML_OCx-19980123-fv6.0.nc',\n",
       " '/Users/kimberly.hyde/Documents/nadata/DATASETS_SOURCE/OCCCI/V6.0/SOURCE_DATA/MAPPED_4KM_DAILY/CHL/ESACCI-OC-L3S-CHLOR_A-MERGED-1D_DAILY_4km_GEO_PML_OCx-19980122-fv6.0.nc',\n",
       " '/Users/kimberly.hyde/Documents/nadata/DATASETS_SOURCE/OCCCI/V6.0/SOURCE_DATA/MAPPED_4KM_DAILY/CHL/ESACCI-OC-L3S-CHLOR_A-MERGED-1D_DAILY_4km_GEO_PML_OCx-19980101-fv6.0.nc',\n",
       " '/Users/kimberly.hyde/Documents/nadata/DATASETS_SOURCE/OCCCI/V6.0/SOURCE_DATA/MAPPED_4KM_DAILY/CHL/ESACCI-OC-L3S-CHLOR_A-MERGED-1D_DAILY_4km_GEO_PML_OCx-19980107-fv6.0.nc',\n",
       " '/Users/kimberly.hyde/Documents/nadata/DATASETS_SOURCE/OCCCI/V6.0/SOURCE_DATA/MAPPED_4KM_DAILY/CHL/ESACCI-OC-L3S-CHLOR_A-MERGED-1D_DAILY_4km_GEO_PML_OCx-19980106-fv6.0.nc',\n",
       " '/Users/kimberly.hyde/Documents/nadata/DATASETS_SOURCE/OCCCI/V6.0/SOURCE_DATA/MAPPED_4KM_DAILY/CHL/ESACCI-OC-L3S-CHLOR_A-MERGED-1D_DAILY_4km_GEO_PML_OCx-19980110-fv6.0.nc',\n",
       " '/Users/kimberly.hyde/Documents/nadata/DATASETS_SOURCE/OCCCI/V6.0/SOURCE_DATA/MAPPED_4KM_DAILY/CHL/ESACCI-OC-L3S-CHLOR_A-MERGED-1D_DAILY_4km_GEO_PML_OCx-19980111-fv6.0.nc',\n",
       " '/Users/kimberly.hyde/Documents/nadata/DATASETS_SOURCE/OCCCI/V6.0/SOURCE_DATA/MAPPED_4KM_DAILY/CHL/ESACCI-OC-L3S-CHLOR_A-MERGED-1D_DAILY_4km_GEO_PML_OCx-19980124-fv6.0.nc',\n",
       " '/Users/kimberly.hyde/Documents/nadata/DATASETS_SOURCE/OCCCI/V6.0/SOURCE_DATA/MAPPED_4KM_DAILY/CHL/ESACCI-OC-L3S-CHLOR_A-MERGED-1D_DAILY_4km_GEO_PML_OCx-19980125-fv6.0.nc',\n",
       " '/Users/kimberly.hyde/Documents/nadata/DATASETS_SOURCE/OCCCI/V6.0/SOURCE_DATA/MAPPED_4KM_DAILY/CHL/ESACCI-OC-L3S-CHLOR_A-MERGED-1D_DAILY_4km_GEO_PML_OCx-19980109-fv6.0.nc',\n",
       " '/Users/kimberly.hyde/Documents/nadata/DATASETS_SOURCE/OCCCI/V6.0/SOURCE_DATA/MAPPED_4KM_DAILY/CHL/ESACCI-OC-L3S-CHLOR_A-MERGED-1D_DAILY_4km_GEO_PML_OCx-19980108-fv6.0.nc',\n",
       " '/Users/kimberly.hyde/Documents/nadata/DATASETS_SOURCE/OCCCI/V6.0/SOURCE_DATA/MAPPED_4KM_DAILY/CHL/ESACCI-OC-L3S-CHLOR_A-MERGED-1D_DAILY_4km_GEO_PML_OCx-19980103-fv6.0.nc',\n",
       " '/Users/kimberly.hyde/Documents/nadata/DATASETS_SOURCE/OCCCI/V6.0/SOURCE_DATA/MAPPED_4KM_DAILY/CHL/ESACCI-OC-L3S-CHLOR_A-MERGED-1D_DAILY_4km_GEO_PML_OCx-19980102-fv6.0.nc',\n",
       " '/Users/kimberly.hyde/Documents/nadata/DATASETS_SOURCE/OCCCI/V6.0/SOURCE_DATA/MAPPED_4KM_DAILY/CHL/ESACCI-OC-L3S-CHLOR_A-MERGED-1D_DAILY_4km_GEO_PML_OCx-19980120-fv6.0.nc',\n",
       " '/Users/kimberly.hyde/Documents/nadata/DATASETS_SOURCE/OCCCI/V6.0/SOURCE_DATA/MAPPED_4KM_DAILY/CHL/ESACCI-OC-L3S-CHLOR_A-MERGED-1D_DAILY_4km_GEO_PML_OCx-19980121-fv6.0.nc',\n",
       " '/Users/kimberly.hyde/Documents/nadata/DATASETS_SOURCE/OCCCI/V6.0/SOURCE_DATA/MAPPED_4KM_DAILY/CHL/ESACCI-OC-L3S-CHLOR_A-MERGED-1D_DAILY_4km_GEO_PML_OCx-19980114-fv6.0.nc',\n",
       " '/Users/kimberly.hyde/Documents/nadata/DATASETS_SOURCE/OCCCI/V6.0/SOURCE_DATA/MAPPED_4KM_DAILY/CHL/ESACCI-OC-L3S-CHLOR_A-MERGED-1D_DAILY_4km_GEO_PML_OCx-19980115-fv6.0.nc',\n",
       " '/Users/kimberly.hyde/Documents/nadata/DATASETS_SOURCE/OCCCI/V6.0/SOURCE_DATA/MAPPED_4KM_DAILY/CHL/ESACCI-OC-L3S-CHLOR_A-MERGED-1D_DAILY_4km_GEO_PML_OCx-19980127-fv6.0.nc',\n",
       " '/Users/kimberly.hyde/Documents/nadata/DATASETS_SOURCE/OCCCI/V6.0/SOURCE_DATA/MAPPED_4KM_DAILY/CHL/ESACCI-OC-L3S-CHLOR_A-MERGED-1D_DAILY_4km_GEO_PML_OCx-19980126-fv6.0.nc',\n",
       " '/Users/kimberly.hyde/Documents/nadata/DATASETS_SOURCE/OCCCI/V6.0/SOURCE_DATA/MAPPED_4KM_DAILY/CHL/ESACCI-OC-L3S-CHLOR_A-MERGED-1D_DAILY_4km_GEO_PML_OCx-19980119-fv6.0.nc',\n",
       " '/Users/kimberly.hyde/Documents/nadata/DATASETS_SOURCE/OCCCI/V6.0/SOURCE_DATA/MAPPED_4KM_DAILY/CHL/ESACCI-OC-L3S-CHLOR_A-MERGED-1D_DAILY_4km_GEO_PML_OCx-19980118-fv6.0.nc',\n",
       " '/Users/kimberly.hyde/Documents/nadata/DATASETS_SOURCE/OCCCI/V6.0/SOURCE_DATA/MAPPED_4KM_DAILY/CHL/ESACCI-OC-L3S-CHLOR_A-MERGED-1D_DAILY_4km_GEO_PML_OCx-19980113-fv6.0.nc',\n",
       " '/Users/kimberly.hyde/Documents/nadata/DATASETS_SOURCE/OCCCI/V6.0/SOURCE_DATA/MAPPED_4KM_DAILY/CHL/ESACCI-OC-L3S-CHLOR_A-MERGED-1D_DAILY_4km_GEO_PML_OCx-19980112-fv6.0.nc',\n",
       " '/Users/kimberly.hyde/Documents/nadata/DATASETS_SOURCE/OCCCI/V6.0/SOURCE_DATA/MAPPED_4KM_DAILY/CHL/ESACCI-OC-L3S-CHLOR_A-MERGED-1D_DAILY_4km_GEO_PML_OCx-19980131-fv6.0.nc',\n",
       " '/Users/kimberly.hyde/Documents/nadata/DATASETS_SOURCE/OCCCI/V6.0/SOURCE_DATA/MAPPED_4KM_DAILY/CHL/ESACCI-OC-L3S-CHLOR_A-MERGED-1D_DAILY_4km_GEO_PML_OCx-19980104-fv6.0.nc',\n",
       " '/Users/kimberly.hyde/Documents/nadata/DATASETS_SOURCE/OCCCI/V6.0/SOURCE_DATA/MAPPED_4KM_DAILY/CHL/ESACCI-OC-L3S-CHLOR_A-MERGED-1D_DAILY_4km_GEO_PML_OCx-19980105-fv6.0.nc']"
      ]
     },
     "execution_count": 3,
     "metadata": {},
     "output_type": "execute_result"
    }
   ],
   "source": [
    "get_prod_files('chl')"
   ]
  },
  {
   "cell_type": "code",
   "execution_count": 4,
   "id": "bad2e633",
   "metadata": {},
   "outputs": [
    {
     "name": "stdout",
     "output_type": "stream",
     "text": [
      "✓ Using default input data directory: [laptop] → /Users/kimberly.hyde/Documents/nadata/DATASETS_SOURCE/\n",
      "❌ ACSPO' not found in available sources.\n",
      "⚠ No product structure found for dataset 'ACSPO'.\n"
     ]
    }
   ],
   "source": [
    "get_prod_files('SST')\n"
   ]
  },
  {
   "cell_type": "code",
   "execution_count": 5,
   "id": "58c8f089",
   "metadata": {},
   "outputs": [
    {
     "name": "stdout",
     "output_type": "stream",
     "text": [
      "✓ Using default input data directory: [laptop] → /Users/kimberly.hyde/Documents/nadata/DATASETS_SOURCE/\n",
      "⚠ No 'OUTPUT' path found for 'CORALSST' – proceeding with SOURCE only.\n",
      "✅ Found path for 'SST' → /Users/kimberly.hyde/Documents/nadata/DATASETS_SOURCE/CORALSST/V3.1/SOURCE_DATA/MAPPED_5KM_DAILY/SST\n",
      "📦 Found 32 .nc files in: /Users/kimberly.hyde/Documents/nadata/DATASETS_SOURCE/CORALSST/V3.1/SOURCE_DATA/MAPPED_5KM_DAILY/SST\n"
     ]
    },
    {
     "data": {
      "text/plain": [
       "['/Users/kimberly.hyde/Documents/nadata/DATASETS_SOURCE/CORALSST/V3.1/SOURCE_DATA/MAPPED_5KM_DAILY/SST/coraltemp_v3.1_19980116.nc',\n",
       " '/Users/kimberly.hyde/Documents/nadata/DATASETS_SOURCE/CORALSST/V3.1/SOURCE_DATA/MAPPED_5KM_DAILY/SST/coraltemp_v3.1_19980122.nc',\n",
       " '/Users/kimberly.hyde/Documents/nadata/DATASETS_SOURCE/CORALSST/V3.1/SOURCE_DATA/MAPPED_5KM_DAILY/SST/coraltemp_v3.1_19980106.nc',\n",
       " '/Users/kimberly.hyde/Documents/nadata/DATASETS_SOURCE/CORALSST/V3.1/SOURCE_DATA/MAPPED_5KM_DAILY/SST/coraltemp_v3.1_19980126.nc',\n",
       " '/Users/kimberly.hyde/Documents/nadata/DATASETS_SOURCE/CORALSST/V3.1/SOURCE_DATA/MAPPED_5KM_DAILY/SST/coraltemp_v3.1_19980112.nc',\n",
       " '/Users/kimberly.hyde/Documents/nadata/DATASETS_SOURCE/CORALSST/V3.1/SOURCE_DATA/MAPPED_5KM_DAILY/SST/coraltemp_v3.1_19980102.nc',\n",
       " '/Users/kimberly.hyde/Documents/nadata/DATASETS_SOURCE/CORALSST/V3.1/SOURCE_DATA/MAPPED_5KM_DAILY/SST/coraltemp_v3.1_19980127.nc',\n",
       " '/Users/kimberly.hyde/Documents/nadata/DATASETS_SOURCE/CORALSST/V3.1/SOURCE_DATA/MAPPED_5KM_DAILY/SST/coraltemp_v3.1_19980113.nc',\n",
       " '/Users/kimberly.hyde/Documents/nadata/DATASETS_SOURCE/CORALSST/V3.1/SOURCE_DATA/MAPPED_5KM_DAILY/SST/coraltemp_v3.1_19980103.nc',\n",
       " '/Users/kimberly.hyde/Documents/nadata/DATASETS_SOURCE/CORALSST/V3.1/SOURCE_DATA/MAPPED_5KM_DAILY/SST/coraltemp_v3.1_19980117.nc',\n",
       " '/Users/kimberly.hyde/Documents/nadata/DATASETS_SOURCE/CORALSST/V3.1/SOURCE_DATA/MAPPED_5KM_DAILY/SST/coraltemp_v3.1_19980123.nc',\n",
       " '/Users/kimberly.hyde/Documents/nadata/DATASETS_SOURCE/CORALSST/V3.1/SOURCE_DATA/MAPPED_5KM_DAILY/SST/coraltemp_v3.1_19980107.nc',\n",
       " '/Users/kimberly.hyde/Documents/nadata/DATASETS_SOURCE/CORALSST/V3.1/SOURCE_DATA/MAPPED_5KM_DAILY/SST/coraltemp_v3.1_19980128.nc',\n",
       " '/Users/kimberly.hyde/Documents/nadata/DATASETS_SOURCE/CORALSST/V3.1/SOURCE_DATA/MAPPED_5KM_DAILY/SST/coraltemp_v3.1_19980118.nc',\n",
       " '/Users/kimberly.hyde/Documents/nadata/DATASETS_SOURCE/CORALSST/V3.1/SOURCE_DATA/MAPPED_5KM_DAILY/SST/coraltemp_v3.1_19980108.nc',\n",
       " '/Users/kimberly.hyde/Documents/nadata/DATASETS_SOURCE/CORALSST/V3.1/SOURCE_DATA/MAPPED_5KM_DAILY/SST/coraltemp_v3.1_19980119.nc',\n",
       " '/Users/kimberly.hyde/Documents/nadata/DATASETS_SOURCE/CORALSST/V3.1/SOURCE_DATA/MAPPED_5KM_DAILY/SST/coraltemp_v3.1_19980109.nc',\n",
       " '/Users/kimberly.hyde/Documents/nadata/DATASETS_SOURCE/CORALSST/V3.1/SOURCE_DATA/MAPPED_5KM_DAILY/SST/coraltemp_v3.1_19980129.nc',\n",
       " '/Users/kimberly.hyde/Documents/nadata/DATASETS_SOURCE/CORALSST/V3.1/SOURCE_DATA/MAPPED_5KM_DAILY/SST/coraltemp_v3.1_19980124.nc',\n",
       " '/Users/kimberly.hyde/Documents/nadata/DATASETS_SOURCE/CORALSST/V3.1/SOURCE_DATA/MAPPED_5KM_DAILY/SST/coraltemp_v3.1_19980110.nc',\n",
       " '/Users/kimberly.hyde/Documents/nadata/DATASETS_SOURCE/CORALSST/V3.1/SOURCE_DATA/MAPPED_5KM_DAILY/SST/coraltemp_v3.1_19980114.nc',\n",
       " '/Users/kimberly.hyde/Documents/nadata/DATASETS_SOURCE/CORALSST/V3.1/SOURCE_DATA/MAPPED_5KM_DAILY/SST/coraltemp_v3.1_19980120.nc',\n",
       " '/Users/kimberly.hyde/Documents/nadata/DATASETS_SOURCE/CORALSST/V3.1/SOURCE_DATA/MAPPED_5KM_DAILY/SST/coraltemp_v3.1_19980130.nc',\n",
       " '/Users/kimberly.hyde/Documents/nadata/DATASETS_SOURCE/CORALSST/V3.1/SOURCE_DATA/MAPPED_5KM_DAILY/SST/coraltemp_v3.1_19980104.nc',\n",
       " '/Users/kimberly.hyde/Documents/nadata/DATASETS_SOURCE/CORALSST/V3.1/SOURCE_DATA/MAPPED_5KM_DAILY/SST/coraltemp_v3.1_19980115.nc',\n",
       " '/Users/kimberly.hyde/Documents/nadata/DATASETS_SOURCE/CORALSST/V3.1/SOURCE_DATA/MAPPED_5KM_DAILY/SST/coraltemp_v3.1_19980121.nc',\n",
       " '/Users/kimberly.hyde/Documents/nadata/DATASETS_SOURCE/CORALSST/V3.1/SOURCE_DATA/MAPPED_5KM_DAILY/SST/coraltemp_v3.1_19980131.nc',\n",
       " '/Users/kimberly.hyde/Documents/nadata/DATASETS_SOURCE/CORALSST/V3.1/SOURCE_DATA/MAPPED_5KM_DAILY/SST/coraltemp_v3.1_19980105.nc',\n",
       " '/Users/kimberly.hyde/Documents/nadata/DATASETS_SOURCE/CORALSST/V3.1/SOURCE_DATA/MAPPED_5KM_DAILY/SST/coraltemp_v3.1_19980125.nc',\n",
       " '/Users/kimberly.hyde/Documents/nadata/DATASETS_SOURCE/CORALSST/V3.1/SOURCE_DATA/MAPPED_5KM_DAILY/SST/coraltemp_v3.1_19980111.nc',\n",
       " '/Users/kimberly.hyde/Documents/nadata/DATASETS_SOURCE/CORALSST/V3.1/SOURCE_DATA/MAPPED_5KM_DAILY/SST/coraltemp_v3.1_19860307.nc',\n",
       " '/Users/kimberly.hyde/Documents/nadata/DATASETS_SOURCE/CORALSST/V3.1/SOURCE_DATA/MAPPED_5KM_DAILY/SST/coraltemp_v3.1_19980101.nc']"
      ]
     },
     "execution_count": 5,
     "metadata": {},
     "output_type": "execute_result"
    }
   ],
   "source": [
    "get_prod_files('SST',dataset='CORALSST')"
   ]
  },
  {
   "cell_type": "code",
   "execution_count": 3,
   "id": "f75a380e",
   "metadata": {},
   "outputs": [
    {
     "name": "stdout",
     "output_type": "stream",
     "text": [
      "✓ Using default input data directory: [laptop] → /Users/kimberly.hyde/Documents/nadata/DATASETS_SOURCE/\n",
      "✅ Found path for 'PPD' → /Users/kimberly.hyde/Documents/nadata/DATASETS_SOURCE/OCCCI/V6.0/OUTPUT/MAPPED_4KM/PPD/DAILY\n",
      "📦 Found 1 .nc files in: /Users/kimberly.hyde/Documents/nadata/DATASETS_SOURCE/OCCCI/V6.0/OUTPUT/MAPPED_4KM/PPD/DAILY\n"
     ]
    },
    {
     "data": {
      "text/plain": [
       "['/Users/kimberly.hyde/Documents/nadata/DATASETS_SOURCE/OCCCI/V6.0/OUTPUT/MAPPED_4KM/PPD/DAILY/D_20220101-OCCCI-V6.0-GLOBAL_MAPPED-PPD.nc']"
      ]
     },
     "execution_count": 3,
     "metadata": {},
     "output_type": "execute_result"
    }
   ],
   "source": [
    "get_prod_files('PPD')"
   ]
  }
 ],
 "metadata": {
  "kernelspec": {
   "display_name": "satenv",
   "language": "python",
   "name": "python3"
  },
  "language_info": {
   "codemirror_mode": {
    "name": "ipython",
    "version": 3
   },
   "file_extension": ".py",
   "mimetype": "text/x-python",
   "name": "python",
   "nbconvert_exporter": "python",
   "pygments_lexer": "ipython3",
   "version": "3.13.2"
  }
 },
 "nbformat": 4,
 "nbformat_minor": 5
}
