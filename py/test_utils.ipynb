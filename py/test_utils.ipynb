{
 "cells": [
  {
   "cell_type": "code",
   "execution_count": 1,
   "id": "12404ebc-fa59-4637-afc8-68d68c817b62",
   "metadata": {},
   "outputs": [
    {
     "name": "stdout",
     "output_type": "stream",
     "text": [
      "Running on: NECMAC04363461.local\n",
      "Running on: NECMAC04363461.local\n",
      "Running on: NECMAC04363461.local\n"
     ]
    },
    {
     "data": {
      "text/plain": [
       "{'import_utilities': ['get_python_dir',\n",
       "  'get_pyfile_functions',\n",
       "  'import_utility_functions'],\n",
       " 'getfiles': ['dataset_defaults_source',\n",
       "  'product_defaults',\n",
       "  'get_datasets_source',\n",
       "  'get_dataset_dirs',\n",
       "  'get_dataset_products',\n",
       "  'get_prod_path',\n",
       "  'get_prod_files',\n",
       "  'get_output_prod_files']}"
      ]
     },
     "execution_count": 1,
     "metadata": {},
     "output_type": "execute_result"
    }
   ],
   "source": [
    "import os\n",
    "import requests\n",
    "from datetime import datetime\n",
    "import xarray as xr\n",
    "from import_utilities import import_utility_functions\n",
    "\n",
    "# Import all utiltity functions\n",
    "functions = import_utility_functions()\n",
    "globals().update(functions)\n",
    "\n",
    "# Get python directory\n",
    "get_python_dir()\n",
    "\n",
    "# Get the names of the .py files in the utilities folder\n",
    "get_pyfile_functions()"
   ]
  },
  {
   "cell_type": "code",
   "execution_count": 2,
   "id": "6c620a98",
   "metadata": {},
   "outputs": [
    {
     "name": "stdout",
     "output_type": "stream",
     "text": [
      "✓ Using default input data directory: [laptop] → /Users/kimberly.hyde/Documents/nadata/DATASETS_SOURCE/\n"
     ]
    },
    {
     "data": {
      "text/plain": [
       "{'GLOBCOLOUR': '/Users/kimberly.hyde/Documents/nadata/DATASETS_SOURCE/GLOBCOLOUR/V4.2.1/SOURCE_DATA',\n",
       " 'OCCCI': ['/Users/kimberly.hyde/Documents/nadata/DATASETS_SOURCE/OCCCI/V6.0/SOURCE_DATA',\n",
       "  '/Users/kimberly.hyde/Documents/nadata/DATASETS_SOURCE/OCCCI/V6.0/OUTPUT'],\n",
       " 'CORALSST': '/Users/kimberly.hyde/Documents/nadata/DATASETS_SOURCE/CORALSST/V3.1/SOURCE_DATA'}"
      ]
     },
     "execution_count": 2,
     "metadata": {},
     "output_type": "execute_result"
    }
   ],
   "source": [
    "get_dataset_dirs()"
   ]
  },
  {
   "cell_type": "code",
   "execution_count": 2,
   "id": "c48a874e",
   "metadata": {},
   "outputs": [
    {
     "name": "stdout",
     "output_type": "stream",
     "text": [
      "Searching for SST files in dataset CORALSST (version=V2.8.1, type=SOURCE_DATA, map=MAPPED_2KM_DAILY)\n",
      "✓ Using default input data directory: [laptop] → /Users/kimberly.hyde/Documents/nadata/DATASETS_SOURCE/\n",
      "🔍 Scanning datatype: MAPPED_5KM_DAILY\n"
     ]
    },
    {
     "ename": "TypeError",
     "evalue": "argument should be a str or an os.PathLike object where __fspath__ returns a str, not 'NoneType'",
     "output_type": "error",
     "traceback": [
      "\u001b[31m---------------------------------------------------------------------------\u001b[39m",
      "\u001b[31mTypeError\u001b[39m                                 Traceback (most recent call last)",
      "\u001b[36mCell\u001b[39m\u001b[36m \u001b[39m\u001b[32mIn[2]\u001b[39m\u001b[32m, line 1\u001b[39m\n\u001b[32m----> \u001b[39m\u001b[32m1\u001b[39m files = \u001b[43mget_prod_files\u001b[49m\u001b[43m(\u001b[49m\u001b[33;43m'\u001b[39;49m\u001b[33;43mSST\u001b[39;49m\u001b[33;43m'\u001b[39;49m\u001b[43m,\u001b[49m\u001b[43mdataset\u001b[49m\u001b[43m=\u001b[49m\u001b[33;43m'\u001b[39;49m\u001b[33;43mCORALSST\u001b[39;49m\u001b[33;43m'\u001b[39;49m\u001b[43m)\u001b[49m\n\u001b[32m      2\u001b[39m files\n",
      "\u001b[36mFile \u001b[39m\u001b[32m~/Documents/nadata/python/utilities/py/getfiles.py:275\u001b[39m, in \u001b[36mget_prod_files\u001b[39m\u001b[34m(prod, dataset, dataset_version, dataset_type, dataset_map)\u001b[39m\n\u001b[32m    272\u001b[39m \u001b[38;5;28mprint\u001b[39m(\u001b[33mf\u001b[39m\u001b[33m\"\u001b[39m\u001b[33mSearching for \u001b[39m\u001b[38;5;132;01m{\u001b[39;00mprod\u001b[38;5;132;01m}\u001b[39;00m\u001b[33m files in dataset \u001b[39m\u001b[38;5;132;01m{\u001b[39;00mdataset\u001b[38;5;132;01m}\u001b[39;00m\u001b[33m (version=\u001b[39m\u001b[38;5;132;01m{\u001b[39;00mdataset_version\u001b[38;5;132;01m}\u001b[39;00m\u001b[33m, type=\u001b[39m\u001b[38;5;132;01m{\u001b[39;00mdataset_type\u001b[38;5;132;01m}\u001b[39;00m\u001b[33m, map=\u001b[39m\u001b[38;5;132;01m{\u001b[39;00mdataset_map\u001b[38;5;132;01m}\u001b[39;00m\u001b[33m)\u001b[39m\u001b[33m\"\u001b[39m)\n\u001b[32m    274\u001b[39m \u001b[38;5;66;03m# Get the dataset path\u001b[39;00m\n\u001b[32m--> \u001b[39m\u001b[32m275\u001b[39m filepath = \u001b[43mget_prod_path\u001b[49m\u001b[43m(\u001b[49m\u001b[43mdataset\u001b[49m\u001b[43m,\u001b[49m\u001b[43mdataset_version\u001b[49m\u001b[43m=\u001b[49m\u001b[43mdataset_version\u001b[49m\u001b[43m,\u001b[49m\u001b[43mdataset_type\u001b[49m\u001b[43m=\u001b[49m\u001b[43mdataset_type\u001b[49m\u001b[43m,\u001b[49m\u001b[43mdataset_map\u001b[49m\u001b[43m=\u001b[49m\u001b[43mdataset_map\u001b[49m\u001b[43m,\u001b[49m\u001b[43mprod\u001b[49m\u001b[43m=\u001b[49m\u001b[43mprod\u001b[49m\u001b[43m)\u001b[49m\n\u001b[32m    276\u001b[39m \u001b[38;5;28;01mreturn\u001b[39;00m filepath\n\u001b[32m    278\u001b[39m \u001b[38;5;66;03m# Find the .nc files\u001b[39;00m\n",
      "\u001b[36mFile \u001b[39m\u001b[32m~/Documents/nadata/python/utilities/py/getfiles.py:234\u001b[39m, in \u001b[36mget_prod_path\u001b[39m\u001b[34m(dataset, dataset_version, dataset_type, dataset_map, prod)\u001b[39m\n\u001b[32m    231\u001b[39m filepath = dataset_prods.get(dataset_map, {}).get(prod)\n\u001b[32m    233\u001b[39m \u001b[38;5;66;03m# Return filepath\u001b[39;00m\n\u001b[32m--> \u001b[39m\u001b[32m234\u001b[39m \u001b[38;5;28;01mreturn\u001b[39;00m \u001b[43mPath\u001b[49m\u001b[43m(\u001b[49m\u001b[43mfilepath\u001b[49m\u001b[43m)\u001b[49m\n",
      "\u001b[36mFile \u001b[39m\u001b[32m~/miniconda3/lib/python3.13/pathlib/_local.py:503\u001b[39m, in \u001b[36mPath.__init__\u001b[39m\u001b[34m(self, *args, **kwargs)\u001b[39m\n\u001b[32m    500\u001b[39m     msg = (\u001b[33m\"\u001b[39m\u001b[33msupport for supplying keyword arguments to pathlib.PurePath \u001b[39m\u001b[33m\"\u001b[39m\n\u001b[32m    501\u001b[39m            \u001b[33m\"\u001b[39m\u001b[33mis deprecated and scheduled for removal in Python \u001b[39m\u001b[38;5;132;01m{remove}\u001b[39;00m\u001b[33m\"\u001b[39m)\n\u001b[32m    502\u001b[39m     warnings._deprecated(\u001b[33m\"\u001b[39m\u001b[33mpathlib.PurePath(**kwargs)\u001b[39m\u001b[33m\"\u001b[39m, msg, remove=(\u001b[32m3\u001b[39m, \u001b[32m14\u001b[39m))\n\u001b[32m--> \u001b[39m\u001b[32m503\u001b[39m \u001b[38;5;28;43msuper\u001b[39;49m\u001b[43m(\u001b[49m\u001b[43m)\u001b[49m\u001b[43m.\u001b[49m\u001b[34;43m__init__\u001b[39;49m\u001b[43m(\u001b[49m\u001b[43m*\u001b[49m\u001b[43margs\u001b[49m\u001b[43m)\u001b[49m\n",
      "\u001b[36mFile \u001b[39m\u001b[32m~/miniconda3/lib/python3.13/pathlib/_local.py:132\u001b[39m, in \u001b[36mPurePath.__init__\u001b[39m\u001b[34m(self, *args)\u001b[39m\n\u001b[32m    130\u001b[39m             path = arg\n\u001b[32m    131\u001b[39m         \u001b[38;5;28;01mif\u001b[39;00m \u001b[38;5;129;01mnot\u001b[39;00m \u001b[38;5;28misinstance\u001b[39m(path, \u001b[38;5;28mstr\u001b[39m):\n\u001b[32m--> \u001b[39m\u001b[32m132\u001b[39m             \u001b[38;5;28;01mraise\u001b[39;00m \u001b[38;5;167;01mTypeError\u001b[39;00m(\n\u001b[32m    133\u001b[39m                 \u001b[33m\"\u001b[39m\u001b[33margument should be a str or an os.PathLike \u001b[39m\u001b[33m\"\u001b[39m\n\u001b[32m    134\u001b[39m                 \u001b[33m\"\u001b[39m\u001b[33mobject where __fspath__ returns a str, \u001b[39m\u001b[33m\"\u001b[39m\n\u001b[32m    135\u001b[39m                 \u001b[33mf\u001b[39m\u001b[33m\"\u001b[39m\u001b[33mnot \u001b[39m\u001b[38;5;132;01m{\u001b[39;00m\u001b[38;5;28mtype\u001b[39m(path).\u001b[34m__name__\u001b[39m\u001b[38;5;132;01m!r}\u001b[39;00m\u001b[33m\"\u001b[39m)\n\u001b[32m    136\u001b[39m         paths.append(path)\n\u001b[32m    137\u001b[39m \u001b[38;5;66;03m# Avoid calling super().__init__, as an optimisation\u001b[39;00m\n",
      "\u001b[31mTypeError\u001b[39m: argument should be a str or an os.PathLike object where __fspath__ returns a str, not 'NoneType'"
     ]
    }
   ],
   "source": [
    "files = get_prod_files('SST',dataset='CORALSST')\n",
    "files"
   ]
  },
  {
   "cell_type": "code",
   "execution_count": 4,
   "id": "ecc7bcb7-1704-4554-9718-98248372716f",
   "metadata": {
    "scrolled": true
   },
   "outputs": [
    {
     "name": "stdout",
     "output_type": "stream",
     "text": [
      "✓ Using default input data directory: [laptop] → /Users/kimberly.hyde/Documents/nadata/DATASETS_SOURCE/\n",
      "✓ Using specified input directory: [laptop] → /Users/kimberly.hyde/Documents/nadata/DATASETS_SOURCE/\n",
      "✗ Preferred input source 'server' not available — falling back to defaults.\n",
      "✓ Using default input data directory: [laptop] → /Users/kimberly.hyde/Documents/nadata/DATASETS_SOURCE/\n"
     ]
    }
   ],
   "source": [
    "# Auto-detect\n",
    "dirdata = get_datasets_source()\n",
    "\n",
    "# Manually select 'laptop'\n",
    "dirdata = get_datasets_source(preferred=\"laptop\")\n",
    "\n",
    "# Manually select 'server', but default back to laptop if not found\n",
    "dirdata = get_datasets_source(preferred=\"server\")"
   ]
  },
  {
   "cell_type": "code",
   "execution_count": 5,
   "id": "818473c1-1ba2-4228-909e-47d358f6c4b6",
   "metadata": {},
   "outputs": [
    {
     "name": "stdout",
     "output_type": "stream",
     "text": [
      "✓ Using default input data directory: [laptop] → /Users/kimberly.hyde/Documents/nadata/DATASETS_SOURCE/\n",
      "🔍 Scanning specified datatype: MAPPED_4KM_DAILY\n",
      "CHL → /Users/kimberly.hyde/Documents/nadata/DATASETS_SOURCE/OCCCI/V6.0/SOURCE_DATA/MAPPED_4KM_DAILY/CHL\n",
      "RRS → /Users/kimberly.hyde/Documents/nadata/DATASETS_SOURCE/OCCCI/V6.0/SOURCE_DATA/MAPPED_4KM_DAILY/RRS\n"
     ]
    }
   ],
   "source": [
    "dirs = get_dataset_products('OCCCI',dataset_type='MAPPED_4KM_DAILY')\n",
    "products = list(dirs['MAPPED_4KM_DAILY'].keys())\n",
    "for product in products:\n",
    "    path = dirs['MAPPED_4KM_DAILY'][product]\n",
    "    print(f\"{product} → {path}\")\n"
   ]
  },
  {
   "cell_type": "code",
   "execution_count": 9,
   "id": "cddb45c8-e797-419b-b584-05e953873eae",
   "metadata": {},
   "outputs": [
    {
     "name": "stdout",
     "output_type": "stream",
     "text": [
      "✓ Using default input data directory: [laptop] → /Users/kimberly.hyde/Documents/nadata/DATASETS_SOURCE/\n",
      "🔍 Scanning datatype: MAPPED_4KM_DAILY\n",
      "🔍 Scanning datatype: BINNED_1KM_DAILY\n",
      "{'MAPPED_4KM_DAILY': {'CHL': '/Users/kimberly.hyde/Documents/nadata/DATASETS_SOURCE/OCCCI/V6.0/SOURCE_DATA/MAPPED_4KM_DAILY/CHL', 'RRS': '/Users/kimberly.hyde/Documents/nadata/DATASETS_SOURCE/OCCCI/V6.0/SOURCE_DATA/MAPPED_4KM_DAILY/RRS'}, 'BINNED_1KM_DAILY': {'IOP': '/Users/kimberly.hyde/Documents/nadata/DATASETS_SOURCE/OCCCI/V6.0/SOURCE_DATA/BINNED_1KM_DAILY/IOP'}}\n",
      "✓ Using default input data directory: [laptop] → /Users/kimberly.hyde/Documents/nadata/DATASETS_SOURCE/\n",
      "🔍 Scanning specified datatype: MAPPED_4KM_DAILY\n",
      "MAPPED_4KM_DAILY: {'CHL': '/Users/kimberly.hyde/Documents/nadata/DATASETS_SOURCE/OCCCI/V6.0/SOURCE_DATA/MAPPED_4KM_DAILY/CHL', 'RRS': '/Users/kimberly.hyde/Documents/nadata/DATASETS_SOURCE/OCCCI/V6.0/SOURCE_DATA/MAPPED_4KM_DAILY/RRS'}\n",
      "BINNED_1KM_DAILY: {'IOP': '/Users/kimberly.hyde/Documents/nadata/DATASETS_SOURCE/OCCCI/V6.0/SOURCE_DATA/BINNED_1KM_DAILY/IOP'}\n"
     ]
    }
   ],
   "source": [
    "# Just one dataset, all datatypes\n",
    "all_products = get_dataset_products(\"OCCCI\")\n",
    "print(all_products)\n",
    "# Targeting one specific datatype\n",
    "occci = get_dataset_products(\"OCCCI\", dataset_type=\"MAPPED_4KM_DAILY\")\n",
    "\n",
    "# Print results\n",
    "for dtype, products in all_products.items():\n",
    "    print(f\"{dtype}: {products}\")\n"
   ]
  },
  {
   "cell_type": "code",
   "execution_count": 7,
   "id": "76050ec5-d9d3-44f1-9514-f0cf812237b3",
   "metadata": {},
   "outputs": [
    {
     "name": "stdout",
     "output_type": "stream",
     "text": [
      "✓ Using default input data directory: [laptop] → /Users/kimberly.hyde/Documents/nadata/DATASETS_SOURCE/\n",
      "🔍 Scanning datatype: MAPPED_4KM_DAILY\n",
      "🔍 Scanning datatype: BINNED_1KM_DAILY\n"
     ]
    },
    {
     "data": {
      "text/plain": [
       "PosixPath('/Users/kimberly.hyde/Documents/nadata/DATASETS_SOURCE/OCCCI/V6.0/SOURCE_DATA/MAPPED_4KM_DAILY/CHL')"
      ]
     },
     "execution_count": 7,
     "metadata": {},
     "output_type": "execute_result"
    }
   ],
   "source": [
    "path = get_prod_path('occci')\n",
    "path"
   ]
  },
  {
   "cell_type": "code",
   "execution_count": 1,
   "id": "7e86ffe3",
   "metadata": {},
   "outputs": [
    {
     "ename": "NameError",
     "evalue": "name 'get_prod_files' is not defined",
     "output_type": "error",
     "traceback": [
      "\u001b[31m---------------------------------------------------------------------------\u001b[39m",
      "\u001b[31mNameError\u001b[39m                                 Traceback (most recent call last)",
      "\u001b[36mCell\u001b[39m\u001b[36m \u001b[39m\u001b[32mIn[1]\u001b[39m\u001b[32m, line 1\u001b[39m\n\u001b[32m----> \u001b[39m\u001b[32m1\u001b[39m files = \u001b[43mget_prod_files\u001b[49m(\u001b[33m'\u001b[39m\u001b[33mCHL\u001b[39m\u001b[33m'\u001b[39m)\n\u001b[32m      2\u001b[39m files\n",
      "\u001b[31mNameError\u001b[39m: name 'get_prod_files' is not defined"
     ]
    }
   ],
   "source": [
    "files = get_prod_files('CHL')\n",
    "files\n"
   ]
  },
  {
   "cell_type": "code",
   "execution_count": null,
   "id": "5c8c05a3",
   "metadata": {},
   "outputs": [],
   "source": [
    "path = get_prod_path('occci')\n",
    "chl = xr.open_mfdataset(os.path.join(path,'*.nc'))\n",
    "chl"
   ]
  },
  {
   "cell_type": "code",
   "execution_count": null,
   "id": "92a6cc96",
   "metadata": {},
   "outputs": [],
   "source": []
  }
 ],
 "metadata": {
  "kernelspec": {
   "display_name": "satenv",
   "language": "python",
   "name": "python3"
  },
  "language_info": {
   "codemirror_mode": {
    "name": "ipython",
    "version": 3
   },
   "file_extension": ".py",
   "mimetype": "text/x-python",
   "name": "python",
   "nbconvert_exporter": "python",
   "pygments_lexer": "ipython3",
   "version": "3.13.2"
  }
 },
 "nbformat": 4,
 "nbformat_minor": 5
}
