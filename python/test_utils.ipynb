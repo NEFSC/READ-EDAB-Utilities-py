{
 "cells": [
  {
   "cell_type": "code",
   "execution_count": 1,
   "id": "12404ebc-fa59-4637-afc8-68d68c817b62",
   "metadata": {},
   "outputs": [],
   "source": [
    "import os\n",
    "import requests\n",
    "from datetime import datetime\n",
    "import xarray as xr\n",
    "from import_utilities import import_utility_functions"
   ]
  },
  {
   "cell_type": "code",
   "execution_count": null,
   "id": "84400c36",
   "metadata": {},
   "outputs": [
    {
     "name": "stdout",
     "output_type": "stream",
     "text": [
      "Running on: NECMAC04363461.local\n",
      "Imported: get_python_dir from import_utilities\n",
      "Imported: get_pyfile_functions from import_utilities\n",
      "Imported: import_utility_functions from import_utilities\n",
      "Imported: dataset_defualts from getdirs\n",
      "Imported: get_datasets_source from getdirs\n",
      "Imported: get_dataset_dirs from getdirs\n",
      "Imported: get_dataset_products from getdirs\n",
      "Imported: get_prod_path from getdirs\n",
      "Imported: get_prod_files from getdirs\n",
      "Running on: NECMAC04363461.local\n",
      "Running on: NECMAC04363461.local\n"
     ]
    },
    {
     "data": {
      "text/plain": [
       "{'import_utilities': ['get_python_dir',\n",
       "  'get_pyfile_functions',\n",
       "  'import_utility_functions'],\n",
       " 'getdirs': ['dataset_defualts',\n",
       "  'get_datasets_source',\n",
       "  'get_dataset_dirs',\n",
       "  'get_dataset_products',\n",
       "  'get_prod_path',\n",
       "  'get_prod_files']}"
      ]
     },
     "execution_count": 3,
     "metadata": {},
     "output_type": "execute_result"
    }
   ],
   "source": [
    "# Import all utiltity functions\n",
    "functions = import_utility_functions()\n",
    "globals().update(functions)\n",
    "\n",
    "\n",
    "# Get python directory\n",
    "get_python_dir()\n",
    "\n",
    "# Get the names of the .py files in the utilities folder\n",
    "get_pyfile_functions()\n"
   ]
  },
  {
   "cell_type": "code",
   "execution_count": 4,
   "id": "ecc7bcb7-1704-4554-9718-98248372716f",
   "metadata": {
    "scrolled": true
   },
   "outputs": [
    {
     "name": "stdout",
     "output_type": "stream",
     "text": [
      "✓ Using default input data directory: [laptop] → /Users/kimberly.hyde/Documents/nadata/DATASETS_SOURCE/\n",
      "✓ Using specified input directory: [laptop] → /Users/kimberly.hyde/Documents/nadata/DATASETS_SOURCE/\n",
      "✗ Preferred input source 'server' not available — falling back to defaults.\n",
      "✓ Using default input data directory: [laptop] → /Users/kimberly.hyde/Documents/nadata/DATASETS_SOURCE/\n"
     ]
    }
   ],
   "source": [
    "# Auto-detect\n",
    "dirdata = get_datasets_source()\n",
    "\n",
    "# Manually select 'laptop'\n",
    "dirdata = get_datasets_source(preferred=\"laptop\")\n",
    "\n",
    "# Manually select 'server', but default back to laptop if not found\n",
    "dirdata = get_datasets_source(preferred=\"server\")"
   ]
  },
  {
   "cell_type": "code",
   "execution_count": null,
   "id": "818473c1-1ba2-4228-909e-47d358f6c4b6",
   "metadata": {},
   "outputs": [],
   "source": [
    "dirs = get_dataset_products('OCCCI',dataset_type='MAPPED_4KM_DAILY')\n",
    "products = list(dirs['MAPPED_4KM_DAILY'].keys())\n",
    "for product in products:\n",
    "    path = dirs['MAPPED_4KM_DAILY'][product]\n",
    "    print(f\"{product} → {path}\")\n"
   ]
  },
  {
   "cell_type": "code",
   "execution_count": null,
   "id": "cddb45c8-e797-419b-b584-05e953873eae",
   "metadata": {},
   "outputs": [],
   "source": [
    "# Just one dataset, all datatypes\n",
    "all_products = get_dataset_products(\"OCCCI\")\n",
    "print(all_products)\n",
    "# Targeting one specific datatype\n",
    "occci = get_dataset_products(\"OCCCI\", dataset_type=\"MAPPED_4KM_DAILY\")\n",
    "\n",
    "# Print results\n",
    "for dtype, products in all_products.items():\n",
    "    print(f\"{dtype}: {products}\")\n"
   ]
  },
  {
   "cell_type": "code",
   "execution_count": null,
   "id": "76050ec5-d9d3-44f1-9514-f0cf812237b3",
   "metadata": {},
   "outputs": [],
   "source": [
    "path = get_prod_path('occci')\n",
    "path"
   ]
  },
  {
   "cell_type": "code",
   "execution_count": null,
   "id": "7e86ffe3",
   "metadata": {},
   "outputs": [],
   "source": [
    "files = get_prod_files('occci')\n",
    "files\n"
   ]
  },
  {
   "cell_type": "code",
   "execution_count": null,
   "id": "5c8c05a3",
   "metadata": {},
   "outputs": [],
   "source": [
    "path = get_prod_path('occci')\n",
    "chl = xr.open_mfdataset(os.path.join(path,'*.nc'))\n",
    "chl"
   ]
  },
  {
   "cell_type": "code",
   "execution_count": null,
   "id": "92a6cc96",
   "metadata": {},
   "outputs": [],
   "source": []
  }
 ],
 "metadata": {
  "kernelspec": {
   "display_name": "python_madness",
   "language": "python",
   "name": "python3"
  },
  "language_info": {
   "codemirror_mode": {
    "name": "ipython",
    "version": 3
   },
   "file_extension": ".py",
   "mimetype": "text/x-python",
   "name": "python",
   "nbconvert_exporter": "python",
   "pygments_lexer": "ipython3",
   "version": "3.13.3"
  }
 },
 "nbformat": 4,
 "nbformat_minor": 5
}
