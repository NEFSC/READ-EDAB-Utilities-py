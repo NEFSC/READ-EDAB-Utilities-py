{
 "cells": [
  {
   "cell_type": "markdown",
   "id": "51809940",
   "metadata": {},
   "source": [
    "# Notebook to demostrate the new EDAB python utility functions"
   ]
  },
  {
   "cell_type": "code",
   "execution_count": 1,
   "id": "12404ebc-fa59-4637-afc8-68d68c817b62",
   "metadata": {},
   "outputs": [],
   "source": [
    "# Import libraries\n",
    "import os\n",
    "import xarray as xr\n",
    "import socket\n",
    "import sys\n",
    "from pathlib import Path\n",
    "\n"
   ]
  },
  {
   "cell_type": "markdown",
   "id": "024e1389",
   "metadata": {},
   "source": [
    "## Load all utility functions"
   ]
  },
  {
   "cell_type": "code",
   "execution_count": 2,
   "id": "9ebf1cb4",
   "metadata": {},
   "outputs": [
    {
     "name": "stdout",
     "output_type": "stream",
     "text": [
      "Default utilities path: /Users/kimberly.hyde/Documents/nadata/python\n"
     ]
    }
   ],
   "source": [
    "\n",
    "def get_python_path():\n",
    "    hostname = socket.gethostname()                                 # 1. Identify the computer by hostname\n",
    "    code_locations = {                                              # 2. Set default Python code location based on hostname\n",
    "        \"NECMAC04363461.local\": \"/Users/kimberly.hyde/Documents/\",  # Mac laptop\n",
    "        \"nefscsatdata\": \"/mnt/EDAB_Archive/\",                       # Satdata\n",
    "        \"guihyde\": \"/mnt/EDAB_Archive/\"                             # Kim's Satdata container\n",
    "    }\n",
    "\n",
    "    base_path = code_locations.get(hostname)\n",
    "    if not base_path:\n",
    "        print(f\"Unknown hostname: {hostname}\")\n",
    "        return None\n",
    "\n",
    "    default_utility_path = Path(base_path) / \"nadata/python\"\n",
    "    if not default_utility_path.is_dir():\n",
    "        print(f\"Directory not found: {default_utility_path}\")\n",
    "        return None\n",
    "\n",
    "    print(f\"Default utilities path: {default_utility_path}\")\n",
    "    return default_utility_path\n",
    "\n",
    "python_path = get_python_path()\n",
    "if str(python_path) not in sys.path:\n",
    "    sys.path.insert(0, str(python_path))\n",
    "\n",
    "from utilities import date_utilities, gridding_utilities, file_utilities, import_utilities"
   ]
  },
  {
   "cell_type": "markdown",
   "id": "992ea2c5",
   "metadata": {},
   "source": [
    "### Show the default python directory and get the names of the functions"
   ]
  },
  {
   "cell_type": "code",
   "execution_count": 3,
   "id": "7a81ceaf",
   "metadata": {},
   "outputs": [
    {
     "data": {
      "text/plain": [
       "'/Users/kimberly.hyde/Documents/nadata/python/utilities'"
      ]
     },
     "execution_count": 3,
     "metadata": {},
     "output_type": "execute_result"
    }
   ],
   "source": [
    "# Get default python directory\n",
    "from utilities import get_python_dir\n",
    "get_python_dir()"
   ]
  },
  {
   "cell_type": "code",
   "execution_count": 4,
   "id": "77321c7b",
   "metadata": {},
   "outputs": [
    {
     "data": {
      "text/plain": [
       "{'import_utilities': ['get_python_dir',\n",
       "  'get_pyfile_functions',\n",
       "  'import_utility_functions'],\n",
       " 'date_utilities': ['format_date', 'get_dates', 'get_dates_from_source_files'],\n",
       " 'file_utilities': ['dataset_defaults',\n",
       "  'product_defaults',\n",
       "  'get_datasets_source',\n",
       "  'get_dataset_dirs',\n",
       "  'get_dataset_products',\n",
       "  'get_prod_files',\n",
       "  'parse_dataset_info',\n",
       "  'get_dataset_vars',\n",
       "  'set_file_permissions',\n",
       "  'file_make'],\n",
       " 'gridding_utilities': ['hash_grid',\n",
       "  'get_regrid_weights',\n",
       "  'regrid_dataset',\n",
       "  'regrid_wrapper']}"
      ]
     },
     "execution_count": 4,
     "metadata": {},
     "output_type": "execute_result"
    }
   ],
   "source": [
    "# Get the names of the .py files in the utilities folder\n",
    "from utilities import get_pyfile_functions\n",
    "get_pyfile_functions()"
   ]
  },
  {
   "cell_type": "markdown",
   "id": "9aafb4bf",
   "metadata": {},
   "source": [
    "## Use getfiles.py functions to find datasets and files"
   ]
  },
  {
   "cell_type": "code",
   "execution_count": 5,
   "id": "ecc7bcb7-1704-4554-9718-98248372716f",
   "metadata": {
    "scrolled": true
   },
   "outputs": [
    {
     "name": "stdout",
     "output_type": "stream",
     "text": [
      "/Users/kimberly.hyde/Documents/nadata/DATASETS_SOURCE/\n",
      "/Users/kimberly.hyde/Documents/nadata/DATASETS_SOURCE/\n",
      "✗ Preferred input source 'server' not available — falling back to defaults.\n",
      "/Users/kimberly.hyde/Documents/nadata/DATASETS_SOURCE/\n"
     ]
    }
   ],
   "source": [
    "from utilities import get_datasets_source\n",
    "# Auto-detect the default datasets directory\n",
    "print(get_datasets_source())\n",
    "\n",
    "# Manually select 'laptop' datasts directory\n",
    "print(get_datasets_source(preferred=\"laptop\"))\n",
    "\n",
    "# Manually select 'server', but default back to laptop if not found\n",
    "print(get_datasets_source(preferred=\"server\"))"
   ]
  },
  {
   "cell_type": "markdown",
   "id": "e1a56199",
   "metadata": {},
   "source": [
    "## Show the dataset and product defaults"
   ]
  },
  {
   "cell_type": "code",
   "execution_count": 6,
   "id": "f8d09f6c",
   "metadata": {},
   "outputs": [
    {
     "data": {
      "text/plain": [
       "{'ACSPO': ('V2.8.1', 'MAPPED_2KM', 'SST'),\n",
       " 'ACSPONRT': ('V2.8.1', 'MAPPED_2KM', 'SST'),\n",
       " 'AVHRR': ('V5.3', 'MAPPED_4KM', 'SST'),\n",
       " 'CORALSST': ('V3.1', 'MAPPED_5KM', 'SST'),\n",
       " 'GLOBCOLOUR': ('V4.2.1', 'MAPPED_4KM', 'CHL1'),\n",
       " 'MUR': ('V4.1', 'MAPPED_1KM', 'SST'),\n",
       " 'OCCCI': ('V6.0', 'MAPPED_4KM', 'CHL'),\n",
       " 'OISST': ('V2', 'MAPPED_25KM', 'SST')}"
      ]
     },
     "execution_count": 6,
     "metadata": {},
     "output_type": "execute_result"
    }
   ],
   "source": [
    "from utilities import dataset_defaults\n",
    "dataset_defaults()"
   ]
  },
  {
   "cell_type": "code",
   "execution_count": 7,
   "id": "ee92a816",
   "metadata": {},
   "outputs": [
    {
     "data": {
      "text/plain": [
       "{'CHL': ('CHL', 'OCCCI', 'SOURCE', ''),\n",
       " 'CHLOR_A': ('CHLOR_A', 'OCCCI', 'OUTPUT', 'DAILY'),\n",
       " 'SST': ('SST', 'ACSPO', 'SOURCE', ''),\n",
       " 'PPD': ('PPD', 'OCCCI', 'OUTPUT', 'DAILY'),\n",
       " 'PSC': ('PSC', 'OCCCI', 'OUTPUT', 'DAILY'),\n",
       " 'PAR': ('PAR', 'GLOBCOLOUR', 'SOURCE', ''),\n",
       " 'CHL_TEMP': ('CHL1', 'GLOBCOLOUR', 'SOURCE', ''),\n",
       " 'SST_TEMP': ('SST', 'ACSPONRT', 'SOURCE', ''),\n",
       " 'CHL_FRONTS': ('CHL_FRONTS', 'OCCCI', 'OUTPUT', 'DAILY'),\n",
       " 'SST_FRONTS': ('SST_FRONTS', 'ACSPO', 'OUTPUT', 'DAILY'),\n",
       " 'FRONTS': ('SST_FRONTS', 'ACSPO', 'OUTPUT', 'DAILY')}"
      ]
     },
     "execution_count": 7,
     "metadata": {},
     "output_type": "execute_result"
    }
   ],
   "source": [
    "from utilities import product_defaults\n",
    "product_defaults()"
   ]
  },
  {
   "cell_type": "markdown",
   "id": "a9639ea2",
   "metadata": {},
   "source": [
    "# Get dataset directories"
   ]
  },
  {
   "cell_type": "code",
   "execution_count": 8,
   "id": "d572fec2",
   "metadata": {},
   "outputs": [
    {
     "data": {
      "text/plain": [
       "{'GLOBCOLOUR': {'SOURCE_DATA': '/Users/kimberly.hyde/Documents/nadata/DATASETS_SOURCE/GLOBCOLOUR/V4.2.1/SOURCE_DATA'},\n",
       " 'OCCCI': {'SOURCE_DATA': '/Users/kimberly.hyde/Documents/nadata/DATASETS_SOURCE/OCCCI/V6.0/SOURCE_DATA',\n",
       "  'OUTPUT': '/Users/kimberly.hyde/Documents/nadata/DATASETS_SOURCE/OCCCI/V6.0/OUTPUT'},\n",
       " 'CORALSST': {'SOURCE_DATA': '/Users/kimberly.hyde/Documents/nadata/DATASETS_SOURCE/CORALSST/V3.1/SOURCE_DATA'}}"
      ]
     },
     "execution_count": 8,
     "metadata": {},
     "output_type": "execute_result"
    }
   ],
   "source": [
    "from utilities import get_dataset_dirs\n",
    "get_dataset_dirs()"
   ]
  },
  {
   "cell_type": "code",
   "execution_count": 9,
   "id": "c466f1cd",
   "metadata": {},
   "outputs": [
    {
     "name": "stdout",
     "output_type": "stream",
     "text": [
      "\n",
      "🔷 Source Type: SOURCE_DATA\n",
      "  📦 Map Type: MAPPED_4KM_DAILY\n",
      "    🧪 Product: CHL\n",
      "      📍 Path: /Users/kimberly.hyde/Documents/nadata/DATASETS_SOURCE/OCCCI/V6.0/SOURCE_DATA/MAPPED_4KM_DAILY/CHL\n",
      "    🧪 Product: RRS\n",
      "      📍 Path: /Users/kimberly.hyde/Documents/nadata/DATASETS_SOURCE/OCCCI/V6.0/SOURCE_DATA/MAPPED_4KM_DAILY/RRS\n",
      "  📦 Map Type: BINNED_1KM_DAILY\n",
      "    🧪 Product: IOP\n",
      "      📍 Path: /Users/kimberly.hyde/Documents/nadata/DATASETS_SOURCE/OCCCI/V6.0/SOURCE_DATA/BINNED_1KM_DAILY/IOP\n",
      "\n",
      "🔷 Source Type: OUTPUT\n",
      "  📦 Map Type: MAPPED_4KM\n",
      "    🧪 Product: PPD\n",
      "      📍 Path: /Users/kimberly.hyde/Documents/nadata/DATASETS_SOURCE/OCCCI/V6.0/OUTPUT/MAPPED_4KM/PPD\n"
     ]
    }
   ],
   "source": [
    "from utilities import get_dataset_products\n",
    "dirs = get_dataset_products('OCCCI')\n",
    "for source_type, map_types in dirs.items():\n",
    "    print(f\"\\n🔷 Source Type: {source_type}\")\n",
    "    for map_type, products in map_types.items():\n",
    "        print(f\"  📦 Map Type: {map_type}\")\n",
    "        for product, path in products.items():\n",
    "            print(f\"    🧪 Product: {product}\")\n",
    "            print(f\"      📍 Path: {path}\")\n"
   ]
  },
  {
   "cell_type": "markdown",
   "id": "f19399a6",
   "metadata": {},
   "source": [
    "### Get product files"
   ]
  },
  {
   "cell_type": "code",
   "execution_count": 10,
   "id": "6afcd60e",
   "metadata": {},
   "outputs": [
    {
     "name": "stdout",
     "output_type": "stream",
     "text": [
      "📦 Found 30 .nc files in: /Users/kimberly.hyde/Documents/nadata/DATASETS_SOURCE/OCCCI/V6.0/SOURCE_DATA/MAPPED_4KM_DAILY/CHL\n"
     ]
    },
    {
     "data": {
      "text/plain": [
       "['/Users/kimberly.hyde/Documents/nadata/DATASETS_SOURCE/OCCCI/V6.0/SOURCE_DATA/MAPPED_4KM_DAILY/CHL/ESACCI-OC-L3S-CHLOR_A-MERGED-1D_DAILY_4km_GEO_PML_OCx-19980129-fv6.0.nc',\n",
       " '/Users/kimberly.hyde/Documents/nadata/DATASETS_SOURCE/OCCCI/V6.0/SOURCE_DATA/MAPPED_4KM_DAILY/CHL/ESACCI-OC-L3S-CHLOR_A-MERGED-1D_DAILY_4km_GEO_PML_OCx-19980128-fv6.0.nc',\n",
       " '/Users/kimberly.hyde/Documents/nadata/DATASETS_SOURCE/OCCCI/V6.0/SOURCE_DATA/MAPPED_4KM_DAILY/CHL/ESACCI-OC-L3S-CHLOR_A-MERGED-1D_DAILY_4km_GEO_PML_OCx-19980117-fv6.0.nc',\n",
       " '/Users/kimberly.hyde/Documents/nadata/DATASETS_SOURCE/OCCCI/V6.0/SOURCE_DATA/MAPPED_4KM_DAILY/CHL/ESACCI-OC-L3S-CHLOR_A-MERGED-1D_DAILY_4km_GEO_PML_OCx-19980116-fv6.0.nc',\n",
       " '/Users/kimberly.hyde/Documents/nadata/DATASETS_SOURCE/OCCCI/V6.0/SOURCE_DATA/MAPPED_4KM_DAILY/CHL/ESACCI-OC-L3S-CHLOR_A-MERGED-1D_DAILY_4km_GEO_PML_OCx-19980123-fv6.0.nc',\n",
       " '/Users/kimberly.hyde/Documents/nadata/DATASETS_SOURCE/OCCCI/V6.0/SOURCE_DATA/MAPPED_4KM_DAILY/CHL/ESACCI-OC-L3S-CHLOR_A-MERGED-1D_DAILY_4km_GEO_PML_OCx-19980122-fv6.0.nc',\n",
       " '/Users/kimberly.hyde/Documents/nadata/DATASETS_SOURCE/OCCCI/V6.0/SOURCE_DATA/MAPPED_4KM_DAILY/CHL/ESACCI-OC-L3S-CHLOR_A-MERGED-1D_DAILY_4km_GEO_PML_OCx-19980101-fv6.0.nc',\n",
       " '/Users/kimberly.hyde/Documents/nadata/DATASETS_SOURCE/OCCCI/V6.0/SOURCE_DATA/MAPPED_4KM_DAILY/CHL/ESACCI-OC-L3S-CHLOR_A-MERGED-1D_DAILY_4km_GEO_PML_OCx-19980107-fv6.0.nc',\n",
       " '/Users/kimberly.hyde/Documents/nadata/DATASETS_SOURCE/OCCCI/V6.0/SOURCE_DATA/MAPPED_4KM_DAILY/CHL/ESACCI-OC-L3S-CHLOR_A-MERGED-1D_DAILY_4km_GEO_PML_OCx-19980106-fv6.0.nc',\n",
       " '/Users/kimberly.hyde/Documents/nadata/DATASETS_SOURCE/OCCCI/V6.0/SOURCE_DATA/MAPPED_4KM_DAILY/CHL/ESACCI-OC-L3S-CHLOR_A-MERGED-1D_DAILY_4km_GEO_PML_OCx-19980110-fv6.0.nc',\n",
       " '/Users/kimberly.hyde/Documents/nadata/DATASETS_SOURCE/OCCCI/V6.0/SOURCE_DATA/MAPPED_4KM_DAILY/CHL/ESACCI-OC-L3S-CHLOR_A-MERGED-1D_DAILY_4km_GEO_PML_OCx-19980111-fv6.0.nc',\n",
       " '/Users/kimberly.hyde/Documents/nadata/DATASETS_SOURCE/OCCCI/V6.0/SOURCE_DATA/MAPPED_4KM_DAILY/CHL/ESACCI-OC-L3S-CHLOR_A-MERGED-1D_DAILY_4km_GEO_PML_OCx-19980124-fv6.0.nc',\n",
       " '/Users/kimberly.hyde/Documents/nadata/DATASETS_SOURCE/OCCCI/V6.0/SOURCE_DATA/MAPPED_4KM_DAILY/CHL/ESACCI-OC-L3S-CHLOR_A-MERGED-1D_DAILY_4km_GEO_PML_OCx-19980125-fv6.0.nc',\n",
       " '/Users/kimberly.hyde/Documents/nadata/DATASETS_SOURCE/OCCCI/V6.0/SOURCE_DATA/MAPPED_4KM_DAILY/CHL/ESACCI-OC-L3S-CHLOR_A-MERGED-1D_DAILY_4km_GEO_PML_OCx-19980109-fv6.0.nc',\n",
       " '/Users/kimberly.hyde/Documents/nadata/DATASETS_SOURCE/OCCCI/V6.0/SOURCE_DATA/MAPPED_4KM_DAILY/CHL/ESACCI-OC-L3S-CHLOR_A-MERGED-1D_DAILY_4km_GEO_PML_OCx-19980108-fv6.0.nc',\n",
       " '/Users/kimberly.hyde/Documents/nadata/DATASETS_SOURCE/OCCCI/V6.0/SOURCE_DATA/MAPPED_4KM_DAILY/CHL/ESACCI-OC-L3S-CHLOR_A-MERGED-1D_DAILY_4km_GEO_PML_OCx-19980103-fv6.0.nc',\n",
       " '/Users/kimberly.hyde/Documents/nadata/DATASETS_SOURCE/OCCCI/V6.0/SOURCE_DATA/MAPPED_4KM_DAILY/CHL/ESACCI-OC-L3S-CHLOR_A-MERGED-1D_DAILY_4km_GEO_PML_OCx-19980102-fv6.0.nc',\n",
       " '/Users/kimberly.hyde/Documents/nadata/DATASETS_SOURCE/OCCCI/V6.0/SOURCE_DATA/MAPPED_4KM_DAILY/CHL/ESACCI-OC-L3S-CHLOR_A-MERGED-1D_DAILY_4km_GEO_PML_OCx-19980120-fv6.0.nc',\n",
       " '/Users/kimberly.hyde/Documents/nadata/DATASETS_SOURCE/OCCCI/V6.0/SOURCE_DATA/MAPPED_4KM_DAILY/CHL/ESACCI-OC-L3S-CHLOR_A-MERGED-1D_DAILY_4km_GEO_PML_OCx-19980121-fv6.0.nc',\n",
       " '/Users/kimberly.hyde/Documents/nadata/DATASETS_SOURCE/OCCCI/V6.0/SOURCE_DATA/MAPPED_4KM_DAILY/CHL/ESACCI-OC-L3S-CHLOR_A-MERGED-1D_DAILY_4km_GEO_PML_OCx-19980114-fv6.0.nc',\n",
       " '/Users/kimberly.hyde/Documents/nadata/DATASETS_SOURCE/OCCCI/V6.0/SOURCE_DATA/MAPPED_4KM_DAILY/CHL/ESACCI-OC-L3S-CHLOR_A-MERGED-1D_DAILY_4km_GEO_PML_OCx-19980115-fv6.0.nc',\n",
       " '/Users/kimberly.hyde/Documents/nadata/DATASETS_SOURCE/OCCCI/V6.0/SOURCE_DATA/MAPPED_4KM_DAILY/CHL/ESACCI-OC-L3S-CHLOR_A-MERGED-1D_DAILY_4km_GEO_PML_OCx-19980127-fv6.0.nc',\n",
       " '/Users/kimberly.hyde/Documents/nadata/DATASETS_SOURCE/OCCCI/V6.0/SOURCE_DATA/MAPPED_4KM_DAILY/CHL/ESACCI-OC-L3S-CHLOR_A-MERGED-1D_DAILY_4km_GEO_PML_OCx-19980126-fv6.0.nc',\n",
       " '/Users/kimberly.hyde/Documents/nadata/DATASETS_SOURCE/OCCCI/V6.0/SOURCE_DATA/MAPPED_4KM_DAILY/CHL/ESACCI-OC-L3S-CHLOR_A-MERGED-1D_DAILY_4km_GEO_PML_OCx-19980119-fv6.0.nc',\n",
       " '/Users/kimberly.hyde/Documents/nadata/DATASETS_SOURCE/OCCCI/V6.0/SOURCE_DATA/MAPPED_4KM_DAILY/CHL/ESACCI-OC-L3S-CHLOR_A-MERGED-1D_DAILY_4km_GEO_PML_OCx-19980118-fv6.0.nc',\n",
       " '/Users/kimberly.hyde/Documents/nadata/DATASETS_SOURCE/OCCCI/V6.0/SOURCE_DATA/MAPPED_4KM_DAILY/CHL/ESACCI-OC-L3S-CHLOR_A-MERGED-1D_DAILY_4km_GEO_PML_OCx-19980113-fv6.0.nc',\n",
       " '/Users/kimberly.hyde/Documents/nadata/DATASETS_SOURCE/OCCCI/V6.0/SOURCE_DATA/MAPPED_4KM_DAILY/CHL/ESACCI-OC-L3S-CHLOR_A-MERGED-1D_DAILY_4km_GEO_PML_OCx-19980112-fv6.0.nc',\n",
       " '/Users/kimberly.hyde/Documents/nadata/DATASETS_SOURCE/OCCCI/V6.0/SOURCE_DATA/MAPPED_4KM_DAILY/CHL/ESACCI-OC-L3S-CHLOR_A-MERGED-1D_DAILY_4km_GEO_PML_OCx-19980131-fv6.0.nc',\n",
       " '/Users/kimberly.hyde/Documents/nadata/DATASETS_SOURCE/OCCCI/V6.0/SOURCE_DATA/MAPPED_4KM_DAILY/CHL/ESACCI-OC-L3S-CHLOR_A-MERGED-1D_DAILY_4km_GEO_PML_OCx-19980104-fv6.0.nc',\n",
       " '/Users/kimberly.hyde/Documents/nadata/DATASETS_SOURCE/OCCCI/V6.0/SOURCE_DATA/MAPPED_4KM_DAILY/CHL/ESACCI-OC-L3S-CHLOR_A-MERGED-1D_DAILY_4km_GEO_PML_OCx-19980105-fv6.0.nc']"
      ]
     },
     "execution_count": 10,
     "metadata": {},
     "output_type": "execute_result"
    }
   ],
   "source": [
    "from utilities import get_prod_files\n",
    "get_prod_files('chl')"
   ]
  },
  {
   "cell_type": "code",
   "execution_count": 11,
   "id": "bad2e633",
   "metadata": {},
   "outputs": [
    {
     "name": "stdout",
     "output_type": "stream",
     "text": [
      "❌ ACSPO' not found in available sources.\n",
      "⚠ No product structure found for dataset 'ACSPO'.\n"
     ]
    }
   ],
   "source": [
    "get_prod_files('SST')\n"
   ]
  },
  {
   "cell_type": "code",
   "execution_count": 12,
   "id": "58c8f089",
   "metadata": {},
   "outputs": [
    {
     "name": "stdout",
     "output_type": "stream",
     "text": [
      "📦 Found 32 .nc files in: /Users/kimberly.hyde/Documents/nadata/DATASETS_SOURCE/CORALSST/V3.1/SOURCE_DATA/MAPPED_5KM_DAILY/SST\n"
     ]
    },
    {
     "data": {
      "text/plain": [
       "['/Users/kimberly.hyde/Documents/nadata/DATASETS_SOURCE/CORALSST/V3.1/SOURCE_DATA/MAPPED_5KM_DAILY/SST/coraltemp_v3.1_19980116.nc',\n",
       " '/Users/kimberly.hyde/Documents/nadata/DATASETS_SOURCE/CORALSST/V3.1/SOURCE_DATA/MAPPED_5KM_DAILY/SST/coraltemp_v3.1_19980122.nc',\n",
       " '/Users/kimberly.hyde/Documents/nadata/DATASETS_SOURCE/CORALSST/V3.1/SOURCE_DATA/MAPPED_5KM_DAILY/SST/coraltemp_v3.1_19980106.nc',\n",
       " '/Users/kimberly.hyde/Documents/nadata/DATASETS_SOURCE/CORALSST/V3.1/SOURCE_DATA/MAPPED_5KM_DAILY/SST/coraltemp_v3.1_19980126.nc',\n",
       " '/Users/kimberly.hyde/Documents/nadata/DATASETS_SOURCE/CORALSST/V3.1/SOURCE_DATA/MAPPED_5KM_DAILY/SST/coraltemp_v3.1_19980112.nc',\n",
       " '/Users/kimberly.hyde/Documents/nadata/DATASETS_SOURCE/CORALSST/V3.1/SOURCE_DATA/MAPPED_5KM_DAILY/SST/coraltemp_v3.1_19980102.nc',\n",
       " '/Users/kimberly.hyde/Documents/nadata/DATASETS_SOURCE/CORALSST/V3.1/SOURCE_DATA/MAPPED_5KM_DAILY/SST/coraltemp_v3.1_19980127.nc',\n",
       " '/Users/kimberly.hyde/Documents/nadata/DATASETS_SOURCE/CORALSST/V3.1/SOURCE_DATA/MAPPED_5KM_DAILY/SST/coraltemp_v3.1_19980113.nc',\n",
       " '/Users/kimberly.hyde/Documents/nadata/DATASETS_SOURCE/CORALSST/V3.1/SOURCE_DATA/MAPPED_5KM_DAILY/SST/coraltemp_v3.1_19980103.nc',\n",
       " '/Users/kimberly.hyde/Documents/nadata/DATASETS_SOURCE/CORALSST/V3.1/SOURCE_DATA/MAPPED_5KM_DAILY/SST/coraltemp_v3.1_19980117.nc',\n",
       " '/Users/kimberly.hyde/Documents/nadata/DATASETS_SOURCE/CORALSST/V3.1/SOURCE_DATA/MAPPED_5KM_DAILY/SST/coraltemp_v3.1_19980123.nc',\n",
       " '/Users/kimberly.hyde/Documents/nadata/DATASETS_SOURCE/CORALSST/V3.1/SOURCE_DATA/MAPPED_5KM_DAILY/SST/coraltemp_v3.1_19980107.nc',\n",
       " '/Users/kimberly.hyde/Documents/nadata/DATASETS_SOURCE/CORALSST/V3.1/SOURCE_DATA/MAPPED_5KM_DAILY/SST/coraltemp_v3.1_19980128.nc',\n",
       " '/Users/kimberly.hyde/Documents/nadata/DATASETS_SOURCE/CORALSST/V3.1/SOURCE_DATA/MAPPED_5KM_DAILY/SST/coraltemp_v3.1_19980118.nc',\n",
       " '/Users/kimberly.hyde/Documents/nadata/DATASETS_SOURCE/CORALSST/V3.1/SOURCE_DATA/MAPPED_5KM_DAILY/SST/coraltemp_v3.1_19980108.nc',\n",
       " '/Users/kimberly.hyde/Documents/nadata/DATASETS_SOURCE/CORALSST/V3.1/SOURCE_DATA/MAPPED_5KM_DAILY/SST/coraltemp_v3.1_19980119.nc',\n",
       " '/Users/kimberly.hyde/Documents/nadata/DATASETS_SOURCE/CORALSST/V3.1/SOURCE_DATA/MAPPED_5KM_DAILY/SST/coraltemp_v3.1_19980109.nc',\n",
       " '/Users/kimberly.hyde/Documents/nadata/DATASETS_SOURCE/CORALSST/V3.1/SOURCE_DATA/MAPPED_5KM_DAILY/SST/coraltemp_v3.1_19980129.nc',\n",
       " '/Users/kimberly.hyde/Documents/nadata/DATASETS_SOURCE/CORALSST/V3.1/SOURCE_DATA/MAPPED_5KM_DAILY/SST/coraltemp_v3.1_19980124.nc',\n",
       " '/Users/kimberly.hyde/Documents/nadata/DATASETS_SOURCE/CORALSST/V3.1/SOURCE_DATA/MAPPED_5KM_DAILY/SST/coraltemp_v3.1_19980110.nc',\n",
       " '/Users/kimberly.hyde/Documents/nadata/DATASETS_SOURCE/CORALSST/V3.1/SOURCE_DATA/MAPPED_5KM_DAILY/SST/coraltemp_v3.1_19980114.nc',\n",
       " '/Users/kimberly.hyde/Documents/nadata/DATASETS_SOURCE/CORALSST/V3.1/SOURCE_DATA/MAPPED_5KM_DAILY/SST/coraltemp_v3.1_19980120.nc',\n",
       " '/Users/kimberly.hyde/Documents/nadata/DATASETS_SOURCE/CORALSST/V3.1/SOURCE_DATA/MAPPED_5KM_DAILY/SST/coraltemp_v3.1_19980130.nc',\n",
       " '/Users/kimberly.hyde/Documents/nadata/DATASETS_SOURCE/CORALSST/V3.1/SOURCE_DATA/MAPPED_5KM_DAILY/SST/coraltemp_v3.1_19980104.nc',\n",
       " '/Users/kimberly.hyde/Documents/nadata/DATASETS_SOURCE/CORALSST/V3.1/SOURCE_DATA/MAPPED_5KM_DAILY/SST/coraltemp_v3.1_19980115.nc',\n",
       " '/Users/kimberly.hyde/Documents/nadata/DATASETS_SOURCE/CORALSST/V3.1/SOURCE_DATA/MAPPED_5KM_DAILY/SST/coraltemp_v3.1_19980121.nc',\n",
       " '/Users/kimberly.hyde/Documents/nadata/DATASETS_SOURCE/CORALSST/V3.1/SOURCE_DATA/MAPPED_5KM_DAILY/SST/coraltemp_v3.1_19980131.nc',\n",
       " '/Users/kimberly.hyde/Documents/nadata/DATASETS_SOURCE/CORALSST/V3.1/SOURCE_DATA/MAPPED_5KM_DAILY/SST/coraltemp_v3.1_19980105.nc',\n",
       " '/Users/kimberly.hyde/Documents/nadata/DATASETS_SOURCE/CORALSST/V3.1/SOURCE_DATA/MAPPED_5KM_DAILY/SST/coraltemp_v3.1_19980125.nc',\n",
       " '/Users/kimberly.hyde/Documents/nadata/DATASETS_SOURCE/CORALSST/V3.1/SOURCE_DATA/MAPPED_5KM_DAILY/SST/coraltemp_v3.1_19980111.nc',\n",
       " '/Users/kimberly.hyde/Documents/nadata/DATASETS_SOURCE/CORALSST/V3.1/SOURCE_DATA/MAPPED_5KM_DAILY/SST/coraltemp_v3.1_19860307.nc',\n",
       " '/Users/kimberly.hyde/Documents/nadata/DATASETS_SOURCE/CORALSST/V3.1/SOURCE_DATA/MAPPED_5KM_DAILY/SST/coraltemp_v3.1_19980101.nc']"
      ]
     },
     "execution_count": 12,
     "metadata": {},
     "output_type": "execute_result"
    }
   ],
   "source": [
    "get_prod_files('SST',dataset='CORALSST')"
   ]
  },
  {
   "cell_type": "code",
   "execution_count": 13,
   "id": "f75a380e",
   "metadata": {},
   "outputs": [
    {
     "name": "stdout",
     "output_type": "stream",
     "text": [
      "📦 Found 1 .nc files in: /Users/kimberly.hyde/Documents/nadata/DATASETS_SOURCE/OCCCI/V6.0/OUTPUT/MAPPED_4KM/PPD/DAILY\n"
     ]
    },
    {
     "data": {
      "text/plain": [
       "['/Users/kimberly.hyde/Documents/nadata/DATASETS_SOURCE/OCCCI/V6.0/OUTPUT/MAPPED_4KM/PPD/DAILY/D_20220101-OCCCI-V6.0-GLOBAL_MAPPED-PPD.nc']"
      ]
     },
     "execution_count": 13,
     "metadata": {},
     "output_type": "execute_result"
    }
   ],
   "source": [
    "get_prod_files('PPD')"
   ]
  },
  {
   "cell_type": "markdown",
   "id": "8dbe8496",
   "metadata": {},
   "source": [
    "### Filename dates"
   ]
  },
  {
   "cell_type": "code",
   "execution_count": 3,
   "id": "78b50482",
   "metadata": {},
   "outputs": [
    {
     "name": "stdout",
     "output_type": "stream",
     "text": [
      "📦 Found 30 .nc files in: /Users/kimberly.hyde/Documents/nadata/DATASETS_SOURCE/OCCCI/V6.0/SOURCE_DATA/MAPPED_4KM_DAILY/CHL\n",
      "📦 Found 31 .nc files in: /Users/kimberly.hyde/Documents/nadata/DATASETS_SOURCE/GLOBCOLOUR/V4.2.1/SOURCE_DATA/MAPPED_4KM_DAILY/PAR\n",
      "['19980129', '19980128', '19980117', '19980116', '19980123', '19980122', '19980101', '19980107', '19980106', '19980110', '19980111', '19980124', '19980125', '19980109', '19980108', '19980103', '19980102', '19980120', '19980121', '19980114', '19980115', '19980127', '19980126', '19980119', '19980118', '19980113', '19980112', '19980131', '19980104', '19980105']\n",
      "['19980119', '19980117', '19980102', '19980126', '19980128', '19980101', '19980114', '19980130', '19980125', '19980123', '19980112', '19980109', '19980107', '19980120', '19980104', '19980111', '19980110', '19980105', '19980121', '19980106', '19980108', '19980113', '19980122', '19980124', '19980131', '19980115', '19980129', '19980127', '19980103', '19980116', '19980118']\n"
     ]
    }
   ],
   "source": [
    "from utilities import get_source_file_dates\n",
    "from utilities import get_prod_files\n",
    "\n",
    "cfiles = get_prod_files('chl')\n",
    "pfiles = get_prod_files('par')\n",
    "\n",
    "print(get_source_file_dates(cfiles))\n",
    "print(get_source_file_dates(pfiles))"
   ]
  },
  {
   "cell_type": "markdown",
   "id": "5567e20e",
   "metadata": {},
   "source": [
    "### Get dates"
   ]
  },
  {
   "cell_type": "code",
   "execution_count": 3,
   "id": "5a42251a",
   "metadata": {},
   "outputs": [],
   "source": [
    "from utilities import get_dates\n",
    "dates = get_dates([2023,2024],format='datetime')"
   ]
  },
  {
   "cell_type": "markdown",
   "id": "a896a9d7",
   "metadata": {},
   "source": [
    "### Regrid Demo"
   ]
  },
  {
   "cell_type": "code",
   "execution_count": null,
   "id": "54710cd8",
   "metadata": {},
   "outputs": [],
   "source": [
    "from utilities import get_prod_files\n",
    "chl_path = get_prod_files('chl',dataset='OCCCI',getfilepath=True)\n",
    "sst_path = get_prod_files('sst',dataset='CORALSST',getfilepath=True)\n",
    "par_path = get_prod_files('par',dataset='GLOBCOLOUR',getfilepath=True)\n",
    "\n",
    "from utilities import regrid_wrapper\n",
    "sst_ds = regrid_wrapper(chl_path,sst_path,source_vars=['analysed_sst'])\n",
    "par_ds = regrid_wrapper(chl_path,par_path,source_vars=['PAR_mean'])\n",
    "chl_ds = xr.open_mfdataset(os.path.join(chl_path,\"*.nc\"))\n"
   ]
  },
  {
   "cell_type": "code",
   "execution_count": null,
   "id": "d4d70486",
   "metadata": {},
   "outputs": [],
   "source": [
    "def compare_grids(ds1, ds2, tol=1e-6):\n",
    "    lat_match = np.allclose(ds1[\"lat\"].values, ds2[\"lat\"].values, atol=tol)\n",
    "    lon_match = np.allclose(ds1[\"lon\"].values, ds2[\"lon\"].values, atol=tol)\n",
    "    return lat_match and lon_match\n",
    "\n",
    "print(\"✅ SST grid matches CHL:\", compare_grids(sst_ds, chl_ds))\n",
    "print(\"✅ PAR grid matches CHL:\", compare_grids(par_ds, chl_ds))\n",
    "\n",
    "def grid_summary(ds, name):\n",
    "    print(f\"📦 {name} grid:\")\n",
    "    print(f\"  lat: shape={ds.lat.shape}, range=({ds.lat.min().values:.2f}, {ds.lat.max().values:.2f})\")\n",
    "    print(f\"  lon: shape={ds.lon.shape}, range=({ds.lon.min().values:.2f}, {ds.lon.max().values:.2f})\")\n",
    "\n",
    "grid_summary(chl_ds, \"CHL\")\n",
    "grid_summary(sst_ds, \"SST\")\n",
    "grid_summary(par_ds, \"PAR\")"
   ]
  },
  {
   "cell_type": "markdown",
   "id": "29f46b9c",
   "metadata": {},
   "source": []
  },
  {
   "cell_type": "code",
   "execution_count": null,
   "id": "82dba17a",
   "metadata": {},
   "outputs": [],
   "source": [
    "# Old steps to do a global import of all functions\n",
    "\n",
    "\n",
    "def global_import(function_map,verbose=False):\n",
    "    for module_name, function_names in function_map.items():\n",
    "        try:\n",
    "            module = importlib.import_module(module_name)\n",
    "        except ModuleNotFoundError:\n",
    "            print(f\"❌ Module '{module_name}' could not be imported.\")\n",
    "            continue\n",
    "\n",
    "        for name in function_names:\n",
    "            try:\n",
    "                func = getattr(module, name)\n",
    "                globals()[name] = func\n",
    "                print(f\"✅ Imported: {name} from {module_name}\")\n",
    "            except AttributeError:\n",
    "                print(f\"⚠ Function '{name}' not found in '{module_name}'\")\n",
    "    \n",
    "\n",
    "# Get the path to the utilities folder\n",
    "util_path = get_python_path()\n",
    "\n",
    "# Add to sys.path\n",
    "if util_path not in sys.path:\n",
    "    sys.path.append(util_path)\n",
    "\n",
    "# Find the default utiltity functions and import into global\n",
    "from import_utilities import get_pyfile_functions\n",
    "functions = get_pyfile_functions()\n",
    "gl = global_import(functions)\n",
    "\n",
    "# Import local calc functions\n",
    "calc_functions = get_pyfile_functions(os.getcwd(),\"calc\")\n",
    "gl = global_import(calc_functions)\n",
    "\n"
   ]
  }
 ],
 "metadata": {
  "kernelspec": {
   "display_name": "satprocessing",
   "language": "python",
   "name": "python3"
  },
  "language_info": {
   "codemirror_mode": {
    "name": "ipython",
    "version": 3
   },
   "file_extension": ".py",
   "mimetype": "text/x-python",
   "name": "python",
   "nbconvert_exporter": "python",
   "pygments_lexer": "ipython3",
   "version": "3.11.13"
  }
 },
 "nbformat": 4,
 "nbformat_minor": 5
}
